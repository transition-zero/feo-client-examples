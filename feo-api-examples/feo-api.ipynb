{
 "cells": [
  {
   "cell_type": "markdown",
   "id": "2dcd0397-4c5c-4251-a2a9-aff6d2fec3b4",
   "metadata": {},
   "source": [
    "# FEO API\n",
    "\n",
    "*To use this notebook you must have a (free) FEO account.*\n",
    "\n",
    "This notebook guides the user through making calls directly to the FEO-API using Python's requests module."
   ]
  },
  {
   "cell_type": "markdown",
   "id": "cf28e4f7-5dbc-4346-b6c3-c93025fe9aba",
   "metadata": {},
   "source": [
    "Tooling to generate request headers:"
   ]
  },
  {
   "cell_type": "code",
   "execution_count": null,
   "id": "7b363506-2b89-4671-af8a-8f6f00b6d701",
   "metadata": {},
   "outputs": [],
   "source": [
    "import time\n",
    "\n",
    "import requests\n",
    "\n",
    "AUTH0_CLIENT_ID = \"HhT6aGS8u3Pg4PkVQ8sKUtnrtg0x7nUk\"\n",
    "AUTH0_DOMAIN = \"prod-feo-tz.eu.auth0.com\"\n",
    "BASE_URL = \"https://api.feo.transitionzero.org\"\n",
    "\n",
    "\n",
    "def get_headers(config=None):\n",
    "    device_code_payload = {\n",
    "        \"client_id\": AUTH0_CLIENT_ID,\n",
    "        \"scope\": \"openid profile offline_access\",\n",
    "        \"audience\": BASE_URL,\n",
    "    }\n",
    "\n",
    "    device_code_response = requests.post(\n",
    "        f\"https://{AUTH0_DOMAIN}/oauth/device/code\",\n",
    "        json=device_code_payload,\n",
    "        timeout=30,  # noqa\n",
    "    )\n",
    "    device_code_response.raise_for_status()\n",
    "\n",
    "    if device_code_response.status_code != 200:\n",
    "        raise ValueError(\"Error generating device code\")\n",
    "\n",
    "    device_code_data = device_code_response.json()\n",
    "    print(\n",
    "        \"1. In a browser navigate to: \", device_code_data[\"verification_uri_complete\"]\n",
    "    )\n",
    "    print(\"2. Enter the following code: \", device_code_data[\"user_code\"])\n",
    "\n",
    "    token_payload = {\n",
    "        \"grant_type\": \"urn:ietf:params:oauth:grant-type:device_code\",\n",
    "        \"device_code\": device_code_data[\"device_code\"],\n",
    "        \"client_id\": AUTH0_CLIENT_ID,\n",
    "        \"audience\": BASE_URL,\n",
    "    }\n",
    "\n",
    "    authenticated = False\n",
    "    print(\"Checking for authentication\", end=\"\")\n",
    "    while not authenticated:\n",
    "        token_response = requests.post(\n",
    "            f\"https://{AUTH0_DOMAIN}/oauth/token\",\n",
    "            data=token_payload,\n",
    "            timeout=30,  # noqa\n",
    "        )\n",
    "\n",
    "        token_data = token_response.json()\n",
    "        if token_response.status_code == 200:\n",
    "            print(\"Authenticated!\")\n",
    "            print(\"- Id Token: {}...\".format(token_data[\"id_token\"][:10]))\n",
    "            authenticated = True\n",
    "        elif token_data[\"error\"] not in (\"authorization_pending\", \"slow_down\"):\n",
    "            print(token_data[\"error_description\"])\n",
    "            raise ValueError(\"Error generating device code\")\n",
    "        else:\n",
    "            print(\".\", end=\"\")\n",
    "            time.sleep(device_code_data[\"interval\"])\n",
    "\n",
    "    token = token_data.get(\"access_token\")\n",
    "    headers = {\"Authorization\": f\"Bearer {token}\"}\n",
    "\n",
    "    return headers"
   ]
  },
  {
   "cell_type": "markdown",
   "id": "23271eeb-d5db-4cf9-9928-5362707e989d",
   "metadata": {},
   "source": [
    "Get headers for authenticating requests to the API:"
   ]
  },
  {
   "cell_type": "code",
   "execution_count": null,
   "id": "a6128633-79c4-4fd0-9da4-d5a6ee3ac723",
   "metadata": {},
   "outputs": [],
   "source": [
    "headers = get_headers()"
   ]
  },
  {
   "cell_type": "markdown",
   "id": "e57cb9fb-0f14-4891-93cd-602a6ac7f260",
   "metadata": {},
   "source": [
    "Send requests to the API using the Python requests module - endpoints and parameters are detailed in the FEO API docs [here](https://docs.feo.transitionzero.org/redoc)"
   ]
  },
  {
   "cell_type": "code",
   "execution_count": null,
   "id": "1c54f054-98c6-4d4a-8be7-50319fbae0bf",
   "metadata": {},
   "outputs": [],
   "source": [
    "params = {\"limit\": 5}\n",
    "\n",
    "response = requests.get(f\"{BASE_URL}/latest/nodes\", params=params, headers=headers)\n",
    "\n",
    "response.json()"
   ]
  },
  {
   "cell_type": "code",
   "execution_count": null,
   "id": "4a3d7058-593a-4846-840a-109ea2cb4dc2",
   "metadata": {},
   "outputs": [],
   "source": []
  }
 ],
 "metadata": {
  "kernelspec": {
   "display_name": "feo-client-examples",
   "language": "python",
   "name": "feo-client-examples"
  },
  "language_info": {
   "codemirror_mode": {
    "name": "ipython",
    "version": 3
   },
   "file_extension": ".py",
   "mimetype": "text/x-python",
   "name": "python",
   "nbconvert_exporter": "python",
   "pygments_lexer": "ipython3",
   "version": "3.11.6"
  }
 },
 "nbformat": 4,
 "nbformat_minor": 5
}
