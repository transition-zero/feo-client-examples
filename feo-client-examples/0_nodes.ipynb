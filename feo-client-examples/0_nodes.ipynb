{
   "cells": [
      {
         "cell_type": "markdown",
         "id": "b6b293dc-d42c-4ac5-99be-e7f79748645e",
         "metadata": {},
         "source": [
            "_To use this notebook you must have a (free) FEO account, available [here](https://feo.transitionzero.org/). You may then install the feo-client library, if necessary, and then use the package to log in. You can also run notebook in a Colab notebook via the badge below._"
         ]
      },
      {
         "cell_type": "markdown",
         "id": "b1d45911-c183-4916-84a7-735da5464da9",
         "metadata": {},
         "source": [
            "<a target=\"_blank\" href=\"https://colab.research.google.com/github/transition-zero/feo-client-examples/blob/main/feo-client-examples/0_nodes.ipynb\">\n",
            "  <img src=\"https://colab.research.google.com/assets/colab-badge.svg\" alt=\"Open In Colab\"/>\n",
            "</a>"
         ]
      },
      {
         "cell_type": "code",
         "execution_count": null,
         "id": "50c8b7a4-491b-4ba3-a3aa-e93547f96796",
         "metadata": {},
         "outputs": [],
         "source": [
            "!pip install --extra-index-url https://test.pypi.org/simple/ feo-client --pre"
         ]
      },
      {
         "cell_type": "code",
         "execution_count": 1,
         "id": "16eb2e8c-04df-4ede-8eb5-7a9e5621a2c6",
         "metadata": {
            "tags": [
               "skip-execution"
            ]
         },
         "outputs": [],
         "source": [
            "from feo.client.auth import login\n",
            "\n",
            "login()"
         ]
      },
      {
         "cell_type": "markdown",
         "id": "08ca601e-a140-4dcd-b7db-d99b4817c46f",
         "metadata": {},
         "source": [
            "# Node\n",
            "_Object-oriented interface for Nodes via the Python client_"
         ]
      },
      {
         "cell_type": "markdown",
         "id": "b3df48ef-7a44-4d34-bbc6-c4d3fdc20e10",
         "metadata": {},
         "source": [
            "In the FEO platform, all data is indexed to a `Node`. Nodes are used to represent useful physical and administrative boundaries - ranging from individual physical assets through to entire countries and continents. This flexibility allows FEO users to access data at all levels of aggregation via the FEO platform ."
         ]
      },
      {
         "cell_type": "markdown",
         "id": "37df5d48-d0b0-4275-a3b3-391f6b22214b",
         "metadata": {},
         "source": [
            "In the physics of systems modelling, Nodes are discrete units around which the continuity of energy and materials is constrained. In other words, at every node in a systems model, the input plus supply to the node must equal the output plus demand."
         ]
      },
      {
         "cell_type": "markdown",
         "id": "e0401eda-7a1d-4a63-8033-a4f65293cd0f",
         "metadata": {},
         "source": [
            "To begin, import the `Node` client."
         ]
      },
      {
         "cell_type": "code",
         "execution_count": 2,
         "id": "f1c69839-fc60-4746-98f6-e7f67f5032e7",
         "metadata": {},
         "outputs": [],
         "source": [
            "from feo.client import Node"
         ]
      },
      {
         "cell_type": "markdown",
         "id": "c3c5e3e1-0397-43a6-a497-eef6b0d88b04",
         "metadata": {},
         "source": [
            "The `Node.search` method can be used to search for Nodes. "
         ]
      },
      {
         "cell_type": "code",
         "execution_count": 3,
         "id": "7ecd23ca-d680-49f0-aec3-8b7617b4751a",
         "metadata": {},
         "outputs": [
            {
               "data": {
                  "text/plain": [
                     "[Node(id='IDN-BA', node_type='admin_1', type_alias='admin1', name_primary_en='Bali', public=True, is_asset=False, properties=None, sector=None, asset_properties=None)]"
                  ]
               },
               "execution_count": 3,
               "metadata": {},
               "output_type": "execute_result"
            }
         ],
         "source": [
            "Node.search(\"Bali\")"
         ]
      },
      {
         "cell_type": "markdown",
         "id": "5489c7f4-86ab-4d40-b0cd-6e2447850d01",
         "metadata": {},
         "source": [
            "Each search result is an instance of the `Node` object."
         ]
      },
      {
         "cell_type": "code",
         "execution_count": 15,
         "id": "e67e4882-8f8d-41ee-b6c8-17eca7728f12",
         "metadata": {},
         "outputs": [
            {
               "data": {
                  "text/plain": [
                     "Node(id='IDN', node_type='admin_0', type_alias='country', name_primary_en='Indonesia', public=True, is_asset=False, properties=None, sector=None, asset_properties=None)"
                  ]
               },
               "execution_count": 15,
               "metadata": {},
               "output_type": "execute_result"
            }
         ],
         "source": [
            "IDN = Node.search(\"indonesia\")[0]\n",
            "IDN"
         ]
      },
      {
         "cell_type": "markdown",
         "id": "976f1e02-e23b-4a9b-84fe-ddfed0ed5a76",
         "metadata": {},
         "source": [
            "Nodes have an `id` which is unique. Nodes can have many names (or `aliases`), one of which is attached to the node as a primary English name."
         ]
      },
      {
         "cell_type": "code",
         "execution_count": null,
         "id": "5f9a3013-1b0e-49e6-9946-43d575a51b14",
         "metadata": {},
         "outputs": [],
         "source": [
            "IDN.id, IDN.name_primary_en"
         ]
      },
      {
         "cell_type": "markdown",
         "id": "da639a32-4fc8-43d8-b3de-6dac0472c71f",
         "metadata": {},
         "source": [
            "Nodes may also be retrieved directly via their `id` if it is known."
         ]
      },
      {
         "cell_type": "code",
         "execution_count": 42,
         "id": "81d80038-70ff-4906-903c-b5fcb6b56ca8",
         "metadata": {},
         "outputs": [],
         "source": [
            "IDN = Node.from_id(\"IDN-JB\")\n",
            "\n",
            "\n",
            "# Save IDN.geometry to a geojson file\n",
            "# Remember it is a dict\n",
            "\n",
            "geom_dict = {\"geometry\": {\n",
            "        \"type\": \"MultiPolygon\",\n",
            "        \"coordinates\": IDN.geometry['coordinates']}\n",
            "\n",
            "# Save the dict to a geojson file\n",
            "import json\n",
            "with open(\"IDN-JB.geojson\", \"w\") as f:\n",
            "    json.dump(geom_dict, f)"
         ]
      },
      {
         "cell_type": "code",
         "execution_count": 41,
         "metadata": {},
         "outputs": [
            {
               "data": {
                  "text/plain": [
                     "'MultiPolygon'"
                  ]
               },
               "execution_count": 41,
               "metadata": {},
               "output_type": "execute_result"
            }
         ],
         "source": [
            "IDN.geometry['type']"
         ]
      },
      {
         "cell_type": "markdown",
         "id": "67603d64-1961-41eb-b172-55e6b8da46dc",
         "metadata": {},
         "source": [
            "Nodes have a `node_type` which describes what kind of node it is. FEO currently offers the following `node_types`:\n",
            "- **Continents, RegionA, and RegionB**: supernational regions as defined by [UN.M49](https://unstats.un.org/unsd/methodology/m49/)\n",
            "- **Admin0 and Admin1**: nation states and top-level administrative areas defined by the [database of Global Administrative Areas](https://gadm.org/)\n",
            "- **GridRegions**: special areas defined by the physical and administrative boundaries of electricity grid infrastructure \n",
            "- **Substations**: physical electricity grid substations\n",
            "- **PowerStations and PowerUnits**: physical electricity generating assets, either as individual units, or aggregated into full facilities."
         ]
      },
      {
         "cell_type": "markdown",
         "id": "a694808a-c74f-4f07-b237-c5a5bab2b484",
         "metadata": {},
         "source": [
            "Nodes may also have a `type_alias`. This is an alias for the `node_type` which allows FEO to accurately descibe, for example, when an `Admin1` node is called a `State` or `Province`, for example."
         ]
      },
      {
         "cell_type": "code",
         "execution_count": null,
         "id": "2671f1d9-3f16-48ee-8e73-4ba69163574a",
         "metadata": {},
         "outputs": [],
         "source": [
            "IDN.node_type, IDN.type_alias"
         ]
      },
      {
         "cell_type": "markdown",
         "id": "846a69d9-60fe-4099-89ea-aeb58b4c7db8",
         "metadata": {},
         "source": [
            "All nodes have a geometry, whether it be a single point or an entire continent."
         ]
      },
      {
         "cell_type": "code",
         "execution_count": null,
         "id": "0cc29f77-a66e-48c1-87e9-e29a290c1d40",
         "metadata": {},
         "outputs": [],
         "source": [
            "IDN.geometry"
         ]
      },
      {
         "cell_type": "code",
         "execution_count": null,
         "metadata": {},
         "outputs": [],
         "source": [
            "len()"
         ]
      },
      {
         "cell_type": "markdown",
         "id": "4813192a-3354-4eb4-9173-c60c8563445b",
         "metadata": {},
         "source": [
            "The spatial and administrative relationships between nodes are useful for aggregating and disaggregating node properties. Nodes have `children` and `parents` that can be used to traverse between nodes. "
         ]
      },
      {
         "cell_type": "code",
         "execution_count": 20,
         "id": "6d5c4981-b66a-48ce-bc21-527006a9add0",
         "metadata": {},
         "outputs": [
            {
               "name": "stdout",
               "output_type": "stream",
               "text": [
                  "IDN-AC Aceh admin_1\n",
                  "IDN-BA Bali admin_1\n",
                  "IDN-BB Bangka Belitung admin_1\n",
                  "IDN-BE Bengkulu admin_1\n",
                  "IDN-BT Banten admin_1\n",
                  "IDN-GO Gorontalo admin_1\n",
                  "IDN-IB Papua Barat admin_1\n",
                  "IDN-JA Jambi admin_1\n",
                  "IDN-JB None admin_1\n",
                  "IDN-JI Jawa Timur admin_1\n",
                  "IDN-JK Jakarta Raya admin_1\n",
                  "IDN-JR Jawa Barat admin_1\n",
                  "IDN-JT Jawa Tengah admin_1\n",
                  "IDN-JW Indonesia Java admin_1\n",
                  "IDN-KA Indonesia Kalimantan admin_1\n",
                  "IDN-KB Kalimantan Barat admin_1\n",
                  "IDN-KI None admin_1\n",
                  "IDN-KM Kalimantan Timur admin_1\n",
                  "IDN-KR Kepulauan Riau admin_1\n",
                  "IDN-KS Kalimantan Selatan admin_1\n",
                  "IDN-KT Kalimantan Tengah admin_1\n",
                  "IDN-KU Kalimantan Utara admin_1\n",
                  "IDN-LA Lampung admin_1\n",
                  "IDN-MA Maluku admin_1\n",
                  "IDN-ML Indonesia Maluku admin_1\n",
                  "IDN-MU Maluku Utara admin_1\n",
                  "IDN-NB Nusa Tenggara Barat admin_1\n",
                  "IDN-NT Nusa Tenggara Timur admin_1\n",
                  "IDN-NU Indonesia Nusa Tenggara admin_1\n",
                  "IDN-PA Papua admin_1\n",
                  "IDN-PB None admin_1\n",
                  "IDN-PP Indonesia Papua admin_1\n",
                  "IDN-RI Riau admin_1\n",
                  "IDN-SA None admin_1\n",
                  "IDN-SB Sumatera Barat admin_1\n",
                  "IDN-SE Sulawesi Selatan admin_1\n",
                  "IDN-SG Sulawesi Tenggara admin_1\n",
                  "IDN-SL Sumatera Selatan admin_1\n",
                  "IDN-SM Indonesia Sumatra admin_1\n",
                  "IDN-SN None admin_1\n",
                  "IDN-SR Sulawesi Barat admin_1\n",
                  "IDN-SS None admin_1\n",
                  "IDN-ST Sulawesi Tengah admin_1\n",
                  "IDN-SU Sumatera Utara admin_1\n",
                  "IDN-SW Sulawesi Utara admin_1\n",
                  "IDN-YO Yogyakarta admin_1\n"
               ]
            },
            {
               "ename": "NameError",
               "evalue": "name 'idn' is not defined",
               "output_type": "error",
               "traceback": [
                  "\u001b[0;31m---------------------------------------------------------------------------\u001b[0m",
                  "\u001b[0;31mNameError\u001b[0m                                 Traceback (most recent call last)",
                  "\u001b[1;32m/Users/calvinnesbitt/Documents/feo/feo-client-examples/feo-client-examples/0_nodes.ipynb Cell 25\u001b[0m line \u001b[0;36m7\n\u001b[1;32m      <a href='vscode-notebook-cell:/Users/calvinnesbitt/Documents/feo/feo-client-examples/feo-client-examples/0_nodes.ipynb#X32sZmlsZQ%3D%3D?line=3'>4</a>\u001b[0m     \u001b[39mif\u001b[39;00m child\u001b[39m.\u001b[39mnode_type \u001b[39m==\u001b[39m \u001b[39m\"\u001b[39m\u001b[39madmin_1\u001b[39m\u001b[39m\"\u001b[39m:\n\u001b[1;32m      <a href='vscode-notebook-cell:/Users/calvinnesbitt/Documents/feo/feo-client-examples/feo-client-examples/0_nodes.ipynb#X32sZmlsZQ%3D%3D?line=4'>5</a>\u001b[0m         idn_admin_1_count \u001b[39m+\u001b[39m\u001b[39m=\u001b[39m \u001b[39m1\u001b[39m\n\u001b[0;32m----> <a href='vscode-notebook-cell:/Users/calvinnesbitt/Documents/feo/feo-client-examples/feo-client-examples/0_nodes.ipynb#X32sZmlsZQ%3D%3D?line=6'>7</a>\u001b[0m idn\u001b[39m.\u001b[39mgeometry\n",
                  "\u001b[0;31mNameError\u001b[0m: name 'idn' is not defined"
               ]
            }
         ],
         "source": [
            "idn_admin_1_count = 0\n",
            "for child in IDN.children:\n",
            "    print(child.id, child.name_primary_en, child.node_type)\n",
            "    if child.node_type == \"admin_1\":\n",
            "        idn_admin_1_count += 1\n",
            "\n",
            "idn.geometry"
         ]
      },
      {
         "cell_type": "code",
         "execution_count": 31,
         "metadata": {},
         "outputs": [
            {
               "data": {
                  "text/plain": [
                     "[Node(id='IDN-AC', node_type='admin_1', type_alias='admin1', name_primary_en='Aceh', public=True, is_asset=False, properties=None, sector=None, asset_properties=None),\n",
                     " Node(id='IDN-BA', node_type='admin_1', type_alias='admin1', name_primary_en='Bali', public=True, is_asset=False, properties=None, sector=None, asset_properties=None),\n",
                     " Node(id='IDN-BB', node_type='admin_1', type_alias='admin1', name_primary_en='Bangka Belitung', public=True, is_asset=False, properties=None, sector=None, asset_properties=None),\n",
                     " Node(id='IDN-BE', node_type='admin_1', type_alias='admin1', name_primary_en='Bengkulu', public=True, is_asset=False, properties=None, sector=None, asset_properties=None),\n",
                     " Node(id='IDN-BT', node_type='admin_1', type_alias='admin1', name_primary_en='Banten', public=True, is_asset=False, properties=None, sector=None, asset_properties=None),\n",
                     " Node(id='IDN-GO', node_type='admin_1', type_alias='admin1', name_primary_en='Gorontalo', public=True, is_asset=False, properties=None, sector=None, asset_properties=None),\n",
                     " Node(id='IDN-IB', node_type='admin_1', type_alias='province', name_primary_en='Papua Barat', public=True, is_asset=False, properties=None, sector=None, asset_properties=None),\n",
                     " Node(id='IDN-JA', node_type='admin_1', type_alias='admin1', name_primary_en='Jambi', public=True, is_asset=False, properties=None, sector=None, asset_properties=None),\n",
                     " Node(id='IDN-JB', node_type='admin_1', type_alias='admin1', name_primary_en=None, public=True, is_asset=False, properties=None, sector=None, asset_properties=None),\n",
                     " Node(id='IDN-JI', node_type='admin_1', type_alias='admin1', name_primary_en='Jawa Timur', public=True, is_asset=False, properties=None, sector=None, asset_properties=None),\n",
                     " Node(id='IDN-JK', node_type='admin_1', type_alias='admin1', name_primary_en='Jakarta Raya', public=True, is_asset=False, properties=None, sector=None, asset_properties=None),\n",
                     " Node(id='IDN-JR', node_type='admin_1', type_alias='province', name_primary_en='Jawa Barat', public=True, is_asset=False, properties=None, sector=None, asset_properties=None),\n",
                     " Node(id='IDN-JT', node_type='admin_1', type_alias='admin1', name_primary_en='Jawa Tengah', public=True, is_asset=False, properties=None, sector=None, asset_properties=None),\n",
                     " Node(id='IDN-JW', node_type='admin_1', type_alias='gridRegion', name_primary_en='Indonesia Java', public=True, is_asset=False, properties=None, sector=None, asset_properties=None),\n",
                     " Node(id='IDN-KA', node_type='admin_1', type_alias='gridRegion', name_primary_en='Indonesia Kalimantan', public=True, is_asset=False, properties=None, sector=None, asset_properties=None),\n",
                     " Node(id='IDN-KB', node_type='admin_1', type_alias='admin1', name_primary_en='Kalimantan Barat', public=True, is_asset=False, properties=None, sector=None, asset_properties=None),\n",
                     " Node(id='IDN-KI', node_type='admin_1', type_alias='admin1', name_primary_en=None, public=True, is_asset=False, properties=None, sector=None, asset_properties=None),\n",
                     " Node(id='IDN-KM', node_type='admin_1', type_alias='province', name_primary_en='Kalimantan Timur', public=True, is_asset=False, properties=None, sector=None, asset_properties=None),\n",
                     " Node(id='IDN-KR', node_type='admin_1', type_alias='admin1', name_primary_en='Kepulauan Riau', public=True, is_asset=False, properties=None, sector=None, asset_properties=None),\n",
                     " Node(id='IDN-KS', node_type='admin_1', type_alias='admin1', name_primary_en='Kalimantan Selatan', public=True, is_asset=False, properties=None, sector=None, asset_properties=None),\n",
                     " Node(id='IDN-KT', node_type='admin_1', type_alias='admin1', name_primary_en='Kalimantan Tengah', public=True, is_asset=False, properties=None, sector=None, asset_properties=None),\n",
                     " Node(id='IDN-KU', node_type='admin_1', type_alias='admin1', name_primary_en='Kalimantan Utara', public=True, is_asset=False, properties=None, sector=None, asset_properties=None),\n",
                     " Node(id='IDN-LA', node_type='admin_1', type_alias='admin1', name_primary_en='Lampung', public=True, is_asset=False, properties=None, sector=None, asset_properties=None),\n",
                     " Node(id='IDN-MA', node_type='admin_1', type_alias='admin1', name_primary_en='Maluku', public=True, is_asset=False, properties=None, sector=None, asset_properties=None),\n",
                     " Node(id='IDN-ML', node_type='admin_1', type_alias='gridRegion', name_primary_en='Indonesia Maluku', public=True, is_asset=False, properties=None, sector=None, asset_properties=None),\n",
                     " Node(id='IDN-MU', node_type='admin_1', type_alias='admin1', name_primary_en='Maluku Utara', public=True, is_asset=False, properties=None, sector=None, asset_properties=None),\n",
                     " Node(id='IDN-NB', node_type='admin_1', type_alias='admin1', name_primary_en='Nusa Tenggara Barat', public=True, is_asset=False, properties=None, sector=None, asset_properties=None),\n",
                     " Node(id='IDN-NT', node_type='admin_1', type_alias='admin1', name_primary_en='Nusa Tenggara Timur', public=True, is_asset=False, properties=None, sector=None, asset_properties=None),\n",
                     " Node(id='IDN-NU', node_type='admin_1', type_alias='gridRegion', name_primary_en='Indonesia Nusa Tenggara', public=True, is_asset=False, properties=None, sector=None, asset_properties=None),\n",
                     " Node(id='IDN-PA', node_type='admin_1', type_alias='admin1', name_primary_en='Papua', public=True, is_asset=False, properties=None, sector=None, asset_properties=None),\n",
                     " Node(id='IDN-PB', node_type='admin_1', type_alias='admin1', name_primary_en=None, public=True, is_asset=False, properties=None, sector=None, asset_properties=None),\n",
                     " Node(id='IDN-PP', node_type='admin_1', type_alias='gridRegion', name_primary_en='Indonesia Papua', public=True, is_asset=False, properties=None, sector=None, asset_properties=None),\n",
                     " Node(id='IDN-RI', node_type='admin_1', type_alias='admin1', name_primary_en='Riau', public=True, is_asset=False, properties=None, sector=None, asset_properties=None),\n",
                     " Node(id='IDN-SA', node_type='admin_1', type_alias='admin1', name_primary_en=None, public=True, is_asset=False, properties=None, sector=None, asset_properties=None),\n",
                     " Node(id='IDN-SB', node_type='admin_1', type_alias='admin1', name_primary_en='Sumatera Barat', public=True, is_asset=False, properties=None, sector=None, asset_properties=None),\n",
                     " Node(id='IDN-SE', node_type='admin_1', type_alias='province', name_primary_en='Sulawesi Selatan', public=True, is_asset=False, properties=None, sector=None, asset_properties=None),\n",
                     " Node(id='IDN-SG', node_type='admin_1', type_alias='admin1', name_primary_en='Sulawesi Tenggara', public=True, is_asset=False, properties=None, sector=None, asset_properties=None),\n",
                     " Node(id='IDN-SL', node_type='admin_1', type_alias='province', name_primary_en='Sumatera Selatan', public=True, is_asset=False, properties=None, sector=None, asset_properties=None),\n",
                     " Node(id='IDN-SM', node_type='admin_1', type_alias='gridRegion', name_primary_en='Indonesia Sumatra', public=True, is_asset=False, properties=None, sector=None, asset_properties=None),\n",
                     " Node(id='IDN-SN', node_type='admin_1', type_alias='admin1', name_primary_en=None, public=True, is_asset=False, properties=None, sector=None, asset_properties=None),\n",
                     " Node(id='IDN-SR', node_type='admin_1', type_alias='admin1', name_primary_en='Sulawesi Barat', public=True, is_asset=False, properties=None, sector=None, asset_properties=None),\n",
                     " Node(id='IDN-SS', node_type='admin_1', type_alias='admin1', name_primary_en=None, public=True, is_asset=False, properties=None, sector=None, asset_properties=None),\n",
                     " Node(id='IDN-ST', node_type='admin_1', type_alias='admin1', name_primary_en='Sulawesi Tengah', public=True, is_asset=False, properties=None, sector=None, asset_properties=None),\n",
                     " Node(id='IDN-SU', node_type='admin_1', type_alias='admin1', name_primary_en='Sumatera Utara', public=True, is_asset=False, properties=None, sector=None, asset_properties=None),\n",
                     " Node(id='IDN-SW', node_type='admin_1', type_alias='province', name_primary_en='Sulawesi Utara', public=True, is_asset=False, properties=None, sector=None, asset_properties=None),\n",
                     " Node(id='IDN-YO', node_type='admin_1', type_alias='admin1', name_primary_en='Yogyakarta', public=True, is_asset=False, properties=None, sector=None, asset_properties=None)]"
                  ]
               },
               "execution_count": 31,
               "metadata": {},
               "output_type": "execute_result"
            }
         ],
         "source": [
            "IDN.children"
         ]
      },
      {
         "cell_type": "code",
         "execution_count": 16,
         "id": "7264468a-be1f-4d43-a5a0-e5ea9eb85450",
         "metadata": {},
         "outputs": [
            {
               "name": "stdout",
               "output_type": "stream",
               "text": [
                  "SOUTHEASTERN-ASIA South-eastern Asia\n",
                  "ASIA Asia\n",
                  "WORLD World\n"
               ]
            }
         ],
         "source": [
            "for parent in IDN.parents:\n",
            "    print(parent.id, parent.name_primary_en)"
         ]
      },
      {
         "cell_type": "code",
         "execution_count": null,
         "metadata": {},
         "outputs": [],
         "source": []
      }
   ],
   "metadata": {
      "kernelspec": {
<<<<<<< HEAD
   "display_name": "python3",
=======
   "display_name": "feo-client",
>>>>>>> e54040d (Feat: renamed notebook)
   "language": "python",
         "name": "python3"
      },
      "language_info": {
         "codemirror_mode": {
            "name": "ipython",
            "version": 3
         },
         "file_extension": ".py",
         "mimetype": "text/x-python",
         "name": "python",
         "nbconvert_exporter": "python",
         "pygments_lexer": "ipython3",
         "version": "3.11.5"
      }
   },
   "nbformat": 4,
   "nbformat_minor": 5
}