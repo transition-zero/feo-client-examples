{
 "cells": [
  {
   "cell_type": "markdown",
   "id": "b6b293dc-d42c-4ac5-99be-e7f79748645e",
   "metadata": {},
   "source": [
    "_To use this notebook you must have a (free) FEO account, available [here](https://feo.transitionzero.org/). You may then install the feo-client library, if necessary, and then use the package to log in. You can also run notebook in a Colab notebook via the badge below._"
   ]
  },
  {
   "cell_type": "markdown",
   "id": "b1d45911-c183-4916-84a7-735da5464da9",
   "metadata": {},
   "source": [
    "<a target=\"_blank\" href=\"https://colab.research.google.com/github/transition-zero/feo-client-examples/blob/main/feo-client-examples/0_nodes.ipynb\">\n",
    "  <img src=\"https://colab.research.google.com/assets/colab-badge.svg\" alt=\"Open In Colab\"/>\n",
    "</a>"
   ]
  },
  {
   "cell_type": "code",
   "execution_count": null,
   "id": "50c8b7a4-491b-4ba3-a3aa-e93547f96796",
   "metadata": {},
   "outputs": [],
   "source": [
    "!pip install --extra-index-url https://test.pypi.org/simple/ feo-client==0.0.1a8"
   ]
  },
  {
   "cell_type": "code",
   "execution_count": null,
   "id": "16eb2e8c-04df-4ede-8eb5-7a9e5621a2c6",
   "metadata": {},
   "outputs": [],
   "source": [
    "from feo.client.auth import login\n",
    "\n",
    "login()"
   ]
  },
  {
   "cell_type": "markdown",
   "id": "08ca601e-a140-4dcd-b7db-d99b4817c46f",
   "metadata": {},
   "source": [
    "# Node\n",
    "_Object-oriented interface for Nodes via the Python client_"
   ]
  },
  {
   "cell_type": "markdown",
   "id": "b3df48ef-7a44-4d34-bbc6-c4d3fdc20e10",
   "metadata": {},
   "source": [
    "In the FEO platform, all data is indexed to a `Node`. Nodes are used to represent useful physical and administrative boundaries - ranging from individual physical assets through to entire countries and continents. This flexibility allows FEO users to access data at all levels of aggregation via the FEO platform ."
   ]
  },
  {
   "cell_type": "markdown",
   "id": "37df5d48-d0b0-4275-a3b3-391f6b22214b",
   "metadata": {},
   "source": [
    "In the physics of systems modelling, Nodes are discrete units around which the continuity of energy and materials is constrained. In other words, at every node in a systems model, the input plus supply to the node must equal the output plus demand."
   ]
  },
  {
   "cell_type": "markdown",
   "id": "e0401eda-7a1d-4a63-8033-a4f65293cd0f",
   "metadata": {},
   "source": [
    "To begin, import the `Node` client."
   ]
  },
  {
   "cell_type": "code",
   "execution_count": null,
   "id": "f1c69839-fc60-4746-98f6-e7f67f5032e7",
   "metadata": {},
   "outputs": [],
   "source": [
    "from feo.client import Node"
   ]
  },
  {
   "cell_type": "markdown",
   "id": "c3c5e3e1-0397-43a6-a497-eef6b0d88b04",
   "metadata": {},
   "source": [
    "The `Node.search` method can be used to search for Nodes. "
   ]
  },
  {
   "cell_type": "code",
   "execution_count": null,
   "id": "7ecd23ca-d680-49f0-aec3-8b7617b4751a",
   "metadata": {},
   "outputs": [],
   "source": [
    "Node.search(\"Bali\")"
   ]
  },
  {
   "cell_type": "markdown",
   "id": "5489c7f4-86ab-4d40-b0cd-6e2447850d01",
   "metadata": {},
   "source": [
    "Each search result is an instance of the `Node` object."
   ]
  },
  {
   "cell_type": "code",
   "execution_count": null,
   "id": "e67e4882-8f8d-41ee-b6c8-17eca7728f12",
   "metadata": {},
   "outputs": [],
   "source": [
    "IDN = Node.search(\"indonesia\")[0]\n",
    "IDN"
   ]
  },
  {
   "cell_type": "markdown",
   "id": "976f1e02-e23b-4a9b-84fe-ddfed0ed5a76",
   "metadata": {},
   "source": [
    "Nodes have an `id` which is unique. Nodes can have many names (or `aliases`), one of which is attached to the node as a primary English name."
   ]
  },
  {
   "cell_type": "code",
   "execution_count": null,
   "id": "5f9a3013-1b0e-49e6-9946-43d575a51b14",
   "metadata": {},
   "outputs": [],
   "source": [
    "IDN.id, IDN.name_primary_en"
   ]
  },
  {
   "cell_type": "markdown",
   "id": "da639a32-4fc8-43d8-b3de-6dac0472c71f",
   "metadata": {},
   "source": [
    "Nodes may also be retrieved directly via their `id` if it is known."
   ]
  },
  {
   "cell_type": "code",
   "execution_count": null,
   "id": "81d80038-70ff-4906-903c-b5fcb6b56ca8",
   "metadata": {},
   "outputs": [],
   "source": [
    "IDN = Node.from_id(\"IDN\")"
   ]
  },
  {
   "cell_type": "markdown",
   "id": "67603d64-1961-41eb-b172-55e6b8da46dc",
   "metadata": {},
   "source": [
    "Nodes have a `node_type` which describes what kind of node it is. FEO currently offers the following `node_types`:\n",
    "- **Continents, RegionA, and RegionB**: supernational regions as defined by [UN.M49](https://unstats.un.org/unsd/methodology/m49/)\n",
    "- **Admin0 and Admin1**: nation states and top-level administrative areas defined by the [database of Global Administrative Areas](https://gadm.org/)\n",
    "- **GridRegions**: special areas defined by the physical and administrative boundaries of electricity grid infrastructure \n",
    "- **Substations**: physical electricity grid substations\n",
    "- **PowerStations and PowerUnits**: physical electricity generating assets, either as individual units, or aggregated into full facilities."
   ]
  },
  {
   "cell_type": "markdown",
   "id": "a694808a-c74f-4f07-b237-c5a5bab2b484",
   "metadata": {},
   "source": [
    "Nodes may also have a `type_alias`. This is an alias for the `node_type` which allows FEO to accurately descibe, for example, when an `Admin1` node is called a `State` or `Province`, for example."
   ]
  },
  {
   "cell_type": "code",
   "execution_count": null,
   "id": "2671f1d9-3f16-48ee-8e73-4ba69163574a",
   "metadata": {},
   "outputs": [],
   "source": [
    "IDN.node_type, IDN.type_alias"
   ]
  },
  {
   "cell_type": "markdown",
   "id": "846a69d9-60fe-4099-89ea-aeb58b4c7db8",
   "metadata": {},
   "source": [
    "All nodes have a geometry, whether it be a single point or an entire continent."
   ]
  },
  {
   "cell_type": "code",
   "execution_count": null,
   "id": "0cc29f77-a66e-48c1-87e9-e29a290c1d40",
   "metadata": {},
   "outputs": [],
   "source": [
    "IDN.geometry"
   ]
  },
  {
   "cell_type": "markdown",
   "id": "4813192a-3354-4eb4-9173-c60c8563445b",
   "metadata": {},
   "source": [
    "The spatial and administrative relationships between nodes are useful for aggregating and disaggregating node properties. Nodes have `children` and `parents` that can be used to traverse between nodes. "
   ]
  },
  {
   "cell_type": "code",
   "execution_count": null,
   "id": "6d5c4981-b66a-48ce-bc21-527006a9add0",
   "metadata": {},
   "outputs": [],
   "source": [
    "for child in IDN.children:\n",
    "    print(child.id, child.name_primary_en)"
   ]
  },
  {
   "cell_type": "code",
   "execution_count": null,
   "id": "7264468a-be1f-4d43-a5a0-e5ea9eb85450",
   "metadata": {},
   "outputs": [],
   "source": [
    "for parent in IDN.parents:\n",
    "    print(parent.id, parent.name_primary_en)"
   ]
  }
 ],
 "metadata": {
  "kernelspec": {
   "display_name": "Python (feo-client)",
   "language": "python",
   "name": "feo-client"
  },
  "language_info": {
   "codemirror_mode": {
    "name": "ipython",
    "version": 3
   },
   "file_extension": ".py",
   "mimetype": "text/x-python",
   "name": "python",
   "nbconvert_exporter": "python",
   "pygments_lexer": "ipython3",
   "version": "3.11.5"
  }
 },
 "nbformat": 4,
 "nbformat_minor": 5
}
