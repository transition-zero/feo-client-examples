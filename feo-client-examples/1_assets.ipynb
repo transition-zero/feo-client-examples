{
 "cells": [
  {
   "cell_type": "markdown",
   "id": "0d7e3386-47a0-4010-861d-8af73abb94c2",
   "metadata": {},
   "source": [
    "_To use this notebook you must have a (free) FEO account, available [here](https://feo.transitionzero.org/). You may then install the feo-client library, if necessary, and then use the package to log in. You can also run notebook in a Colab notebook via the badge below._"
   ]
  },
  {
   "cell_type": "markdown",
   "id": "a693f8d0-3be8-4738-936c-bd03b725ef83",
   "metadata": {},
   "source": [
    "<a target=\"_blank\" href=\"https://colab.research.google.com/github/transition-zero/feo-client-examples/blob/main/feo-client-examples/1_assets.ipynb\">\n",
    "  <img src=\"https://colab.research.google.com/assets/colab-badge.svg\" alt=\"Open In Colab\"/>\n",
    "</a>"
   ]
  },
  {
   "cell_type": "code",
   "execution_count": null,
   "id": "00994af4-8000-452a-957e-a1ef5a173db5",
   "metadata": {},
   "outputs": [],
   "source": [
    "!pip install --extra-index-url https://test.pypi.org/simple/ feo-client==0.0.1a7"
   ]
  },
  {
   "cell_type": "code",
   "execution_count": null,
   "id": "751b4391-c15b-4cd3-bb27-730a13393b62",
   "metadata": {},
   "outputs": [],
   "source": [
    "from feo.client.auth import login\n",
    "\n",
    "login()"
   ]
  },
  {
   "cell_type": "markdown",
   "id": "6b6d9851-3eff-4356-b47e-b97222f2c1be",
   "metadata": {},
   "source": [
    "# Asset\n",
    "_Object-oriented interface for Assets via the Python client_"
   ]
  },
  {
   "cell_type": "markdown",
   "id": "b547e5aa-27dd-4300-a572-6fa2d789cd48",
   "metadata": {},
   "source": [
    "In the FEO platform, `Assets` are a subset of Nodes. Assets are Nodes which correspond to physical plant and equipment like power stations and steelworks. \n",
    "\n",
    "To begin, import the Asset client."
   ]
  },
  {
   "cell_type": "code",
   "execution_count": null,
   "id": "e7eae12b-d1e9-4220-b2a1-f4910720e8b5",
   "metadata": {},
   "outputs": [],
   "source": [
    "from feo.client import Asset"
   ]
  },
  {
   "cell_type": "markdown",
   "id": "a19d0131-37ae-4383-82e0-8de17a09e456",
   "metadata": {},
   "source": [
    "Like nodes, assets can be searched for: "
   ]
  },
  {
   "cell_type": "code",
   "execution_count": null,
   "id": "185cb3cd-96d2-4a58-bd80-8865d551fc71",
   "metadata": {},
   "outputs": [],
   "source": [
    "search_results = Asset.search(\"Rooppur nuclear power plant\", sector=\"power\")\n",
    "search_results\n",
    "for asset in search_results:\n",
    "    print(asset.id, asset.name_primary_en)"
   ]
  },
  {
   "cell_type": "markdown",
   "id": "c6afc777-6da4-485b-a76b-d3ce82767464",
   "metadata": {},
   "source": [
    "... or directly instantiated:"
   ]
  },
  {
   "cell_type": "code",
   "execution_count": null,
   "id": "e2cbf050-ab7a-48de-b446-cb809a818c50",
   "metadata": {
    "scrolled": true
   },
   "outputs": [],
   "source": [
    "asset = Asset(\"PWRURNBGDA0U0\")\n",
    "asset.id, asset.name_primary_en"
   ]
  },
  {
   "cell_type": "markdown",
   "id": "486d5dfe-7594-4ab2-bbe5-c8325b06595d",
   "metadata": {},
   "source": [
    "Assets are categorised according to their industrial `sector`. FEO currently supports two industrial sectors: **power** and **steel** production. Some assets are composed of sub-assets called **units**. "
   ]
  },
  {
   "cell_type": "code",
   "execution_count": null,
   "id": "adcda5f0-2cf6-4ec3-8fa0-a30cc1d8b1a0",
   "metadata": {},
   "outputs": [],
   "source": [
    "asset.sector"
   ]
  },
  {
   "cell_type": "markdown",
   "id": "2770984f-6a9d-4665-855d-98bef21be047",
   "metadata": {},
   "source": [
    "Depending on their sector, assets will have a variety of different properties. "
   ]
  },
  {
   "cell_type": "code",
   "execution_count": null,
   "id": "cc2f5d4f-d778-4ff9-9ab0-30f7fe750d50",
   "metadata": {},
   "outputs": [],
   "source": [
    "asset.properties"
   ]
  },
  {
   "cell_type": "markdown",
   "id": "d8a8a9f7-26ea-4103-bab6-4add55740487",
   "metadata": {},
   "source": [
    "## AssetCollection\n",
    "_An object-oriented interface for **groups** of assets via the Python Client - an extension of a standard Pandas DataFrame_"
   ]
  },
  {
   "cell_type": "markdown",
   "id": "9287fdee-f17a-466f-9798-df20cdf4ceee",
   "metadata": {},
   "source": [
    "`AssetCollections` can be instantiated from a parent node:"
   ]
  },
  {
   "cell_type": "code",
   "execution_count": null,
   "id": "6966dd01-094d-43d8-86b2-880dcc6db907",
   "metadata": {},
   "outputs": [],
   "source": [
    "collection = AssetCollection.from_parent_node('IDN')"
   ]
  },
  {
   "cell_type": "markdown",
   "id": "7102a4cb-aea1-49e3-a82a-b23b5f537dfc",
   "metadata": {},
   "source": [
    "An AssetCollection is just an extension of a Pandas DataFrame"
   ]
  },
  {
   "cell_type": "code",
   "execution_count": null,
   "id": "0ef286b0-367a-4469-8dce-f8207638cafb",
   "metadata": {},
   "outputs": [],
   "source": [
    "collection.size(), collection.columns"
   ]
  },
  {
   "cell_type": "markdown",
   "id": "37039614-ab41-4906-9af1-83fcc6cb0af9",
   "metadata": {},
   "source": [
    "To paginate through the assets in the collection, use the `.next()` method"
   ]
  },
  {
   "cell_type": "code",
   "execution_count": null,
   "id": "0e018fe8-06ca-4117-a085-0f3487537e31",
   "metadata": {},
   "outputs": [],
   "source": [
    "collection.next()"
   ]
  },
  {
   "cell_type": "markdown",
   "id": "00d15830-c613-48b4-a49f-187bf63fb7b5",
   "metadata": {},
   "source": [
    "Original `Asset` objects can be recovered via the `.to_assets()` method"
   ]
  },
  {
   "cell_type": "code",
   "execution_count": null,
   "id": "e2ec78d4-3735-4def-8d27-d50a3aebfdd6",
   "metadata": {},
   "outputs": [],
   "source": [
    "list_of_assets = collection.iloc[0:5].to_assets()\n",
    "list_of_assets"
   ]
  },
  {
   "cell_type": "markdown",
   "id": "3909b5c4-9029-4d6b-8c09-4343429677af",
   "metadata": {},
   "source": [
    "AssetCollections can also be directly instantiated from a list of `Assets`"
   ]
  },
  {
   "cell_type": "code",
   "execution_count": null,
   "id": "66f225b7-1fac-4e3e-9980-c630d25c8f24",
   "metadata": {},
   "outputs": [],
   "source": [
    "AssetCollection.from_assets(list_of_assets)"
   ]
  }
 ],
 "metadata": {
  "kernelspec": {
   "display_name": "Python (feo-client)",
   "language": "python",
   "name": "feo-client"
  },
  "language_info": {
   "codemirror_mode": {
    "name": "ipython",
    "version": 3
   },
   "file_extension": ".py",
   "mimetype": "text/x-python",
   "name": "python",
   "nbconvert_exporter": "python",
   "pygments_lexer": "ipython3",
   "version": "3.11.5"
  }
 },
 "nbformat": 4,
 "nbformat_minor": 5
}
