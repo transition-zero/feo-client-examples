{
 "cells": [
  {
   "cell_type": "markdown",
   "id": "0d7e3386-47a0-4010-861d-8af73abb94c2",
   "metadata": {},
   "source": [
    "_To use this notebook you must have a (free) FEO account, available [here](https://feo.transitionzero.org/). You may then install the feo-client library, if necessary, and then use the package to log in. You can also run notebook in a Colab notebook via the badge below._"
   ]
  },
  {
   "cell_type": "markdown",
   "id": "a693f8d0-3be8-4738-936c-bd03b725ef83",
   "metadata": {},
   "source": [
    "<a target=\"_blank\" href=\"https://colab.research.google.com/github/transition-zero/feo-client-examples/blob/main/feo-client-examples/1_assets.ipynb\">\n",
    "  <img src=\"https://colab.research.google.com/assets/colab-badge.svg\" alt=\"Open In Colab\"/>\n",
    "</a>"
   ]
  },
  {
   "cell_type": "code",
   "execution_count": null,
   "id": "00994af4-8000-452a-957e-a1ef5a173db5",
   "metadata": {},
   "outputs": [],
   "source": [
    "!pip install --extra-index-url https://test.pypi.org/simple/ feo-client --pre"
   ]
  },
  {
   "cell_type": "code",
   "execution_count": null,
   "id": "751b4391-c15b-4cd3-bb27-730a13393b62",
   "metadata": {
    "tags": [
     "skip-execution"
    ]
   },
   "outputs": [],
   "source": [
    "from feo.client.auth import login\n",
    "\n",
    "login()"
   ]
  },
  {
   "cell_type": "markdown",
   "id": "6b6d9851-3eff-4356-b47e-b97222f2c1be",
   "metadata": {},
   "source": [
    "# Asset\n",
    "_Object-oriented interface for Assets via the Python client_"
   ]
  },
  {
   "cell_type": "markdown",
   "id": "b547e5aa-27dd-4300-a572-6fa2d789cd48",
   "metadata": {},
   "source": [
    "In the FEO platform, `Assets` are a subset of Nodes. Assets are Nodes which correspond to physical plant and equipment like power stations and steelworks. \n",
    "\n",
    "To begin, import the Asset client."
   ]
  },
  {
   "cell_type": "code",
   "execution_count": null,
   "id": "e7eae12b-d1e9-4220-b2a1-f4910720e8b5",
   "metadata": {},
   "outputs": [],
   "source": [
    "from feo.client import Asset"
   ]
  },
  {
   "cell_type": "markdown",
   "id": "a19d0131-37ae-4383-82e0-8de17a09e456",
   "metadata": {},
   "source": [
    "Like nodes, assets can be searched for: "
   ]
  },
  {
   "cell_type": "code",
   "execution_count": null,
   "id": "185cb3cd-96d2-4a58-bd80-8865d551fc71",
   "metadata": {},
   "outputs": [],
   "source": [
    "search_results = Asset.search(\"Rooppur nuclear power plant\", sector=\"power\")\n",
    "search_results\n",
    "for asset in search_results:\n",
    "    print(asset.id, asset.name_primary_en)"
   ]
  },
  {
   "cell_type": "markdown",
   "id": "c6afc777-6da4-485b-a76b-d3ce82767464",
   "metadata": {},
   "source": [
    "... or directly instantiated:"
   ]
  },
  {
   "cell_type": "code",
   "execution_count": null,
   "id": "e2cbf050-ab7a-48de-b446-cb809a818c50",
   "metadata": {
    "scrolled": true
   },
   "outputs": [],
   "source": [
    "asset = Asset.from_id(\"PWRURNBGDA0U0\")\n",
    "asset.id, asset.name_primary_en"
   ]
  },
  {
   "cell_type": "markdown",
   "id": "486d5dfe-7594-4ab2-bbe5-c8325b06595d",
   "metadata": {},
   "source": [
    "Assets are categorised according to their industrial `sector`. FEO currently supports two industrial sectors: **power** and **steel** production. Some assets are composed of sub-assets called **units**. "
   ]
  },
  {
   "cell_type": "code",
   "execution_count": null,
   "id": "adcda5f0-2cf6-4ec3-8fa0-a30cc1d8b1a0",
   "metadata": {},
   "outputs": [],
   "source": [
    "asset.sector"
   ]
  },
  {
   "cell_type": "markdown",
   "id": "2770984f-6a9d-4665-855d-98bef21be047",
   "metadata": {},
   "source": [
    "Depending on their sector, assets will have a variety of different properties. "
   ]
  },
  {
   "cell_type": "code",
   "execution_count": null,
   "id": "cc2f5d4f-d778-4ff9-9ab0-30f7fe750d50",
   "metadata": {},
   "outputs": [],
   "source": [
    "asset.properties"
   ]
  },
  {
   "cell_type": "markdown",
   "id": "d90028f7-b14d-4c63-baa2-ace39d683447",
   "metadata": {},
   "source": [
    "## AssetCollection\n",
    "_An object-oriented interface for **groups** of assets via the Python Client_"
   ]
  },
  {
   "cell_type": "code",
   "execution_count": null,
   "id": "7621fbed-6a39-4e22-a008-84c77a0f4ba4",
   "metadata": {},
   "outputs": [],
   "source": [
    "from feo.client import AssetCollection"
   ]
  },
  {
   "cell_type": "code",
   "execution_count": null,
   "id": "f331f03c-9e75-4a26-9833-76aeda9602ce",
   "metadata": {},
   "outputs": [],
   "source": [
    "collection = AssetCollection.from_parent_node(\"IDN-JW\")"
   ]
  },
  {
   "cell_type": "markdown",
   "id": "c4b6e8be-7d84-46d6-b801-1b36338b3079",
   "metadata": {},
   "source": [
    "An AssetCollection is just an extension of a Pandas DataFrame"
   ]
  },
  {
   "cell_type": "code",
   "execution_count": null,
   "id": "fd526ccc-62ad-483f-8257-fd8f25ac7b68",
   "metadata": {},
   "outputs": [],
   "source": [
    "collection.size, collection.columns"
   ]
  },
  {
   "cell_type": "markdown",
   "id": "7e1f42fb-82b4-4aa0-9347-f958b6bcc554",
   "metadata": {},
   "source": [
    "To paginate through the assets in the collection, use the `.next_page()` method"
   ]
  },
  {
   "cell_type": "code",
   "execution_count": null,
   "id": "da53ecc4-64bc-4e32-a734-6cb43eda3612",
   "metadata": {},
   "outputs": [],
   "source": [
    "collection.next_page()"
   ]
  },
  {
   "cell_type": "markdown",
   "id": "8b84b5a0-1021-46ed-b69a-abc8c1aed148",
   "metadata": {},
   "source": [
    "Original `Asset` objects can be recovered via the `to_assets` method:"
   ]
  },
  {
   "cell_type": "code",
   "execution_count": null,
   "id": "dd2b29d7-8aa3-480a-b376-62c6584a1909",
   "metadata": {},
   "outputs": [],
   "source": [
    "collection.iloc[0:4].to_assets()"
   ]
  },
  {
   "cell_type": "markdown",
   "id": "c2b71078-c37a-431c-b007-6d52b1bf5609",
   "metadata": {},
   "source": [
    "## Production"
   ]
  },
  {
   "cell_type": "markdown",
   "id": "3a4d921e-eda5-4a57-9883-37be61f403ef",
   "metadata": {},
   "source": [
    "Assets may be associated with production `records`. Production records describe the production of an asset of a commodity like electricity.\n",
    "\n",
    "Records have a valid time period, a value, and a unit, and may also be linked to secondary categorical data and technologies.\n",
    "Records are where the build of FEO historic and third-party data are held. "
   ]
  },
  {
   "cell_type": "code",
   "execution_count": null,
   "id": "5d393868-655c-4683-b42c-3bbedebe7dbf",
   "metadata": {},
   "outputs": [],
   "source": [
    "asset.production"
   ]
  },
  {
   "cell_type": "markdown",
   "id": "d9f0cebc-e8ba-467c-a93a-d37e6a750b4f",
   "metadata": {},
   "source": [
    "Groups of records are assembled into `RecordCollections`. Like AssetCollections, these are extensions to regular pandas dataframes. They may also be paginated with `next_page()`"
   ]
  },
  {
   "cell_type": "code",
   "execution_count": null,
   "id": "7871419b-8cee-455c-bb37-4d942635ecca",
   "metadata": {},
   "outputs": [],
   "source": [
    "asset.production.next_page()"
   ]
  },
  {
   "cell_type": "markdown",
   "id": "e34fe167-d715-4370-9c50-191c3ebf9cbf",
   "metadata": {},
   "source": [
    "Records also have _provenance_. The `publisher` and `source` can be accessed on every record."
   ]
  },
  {
   "cell_type": "code",
   "execution_count": null,
   "id": "6c261eb7-ec3f-449d-8f14-cc6805b28c44",
   "metadata": {},
   "outputs": [],
   "source": [
    "record = asset.production.iloc[0].to_records()"
   ]
  },
  {
   "cell_type": "code",
   "execution_count": null,
   "id": "a8664ef6-06cf-411b-89d2-11fbc62e2035",
   "metadata": {},
   "outputs": [],
   "source": [
    "record.publisher, record.source"
   ]
  }
 ],
 "metadata": {
  "kernelspec": {
   "display_name": "python3",
   "language": "python",
   "name": "python3"
  },
  "language_info": {
   "codemirror_mode": {
    "name": "ipython",
    "version": 3
   },
   "file_extension": ".py",
   "mimetype": "text/x-python",
   "name": "python",
   "nbconvert_exporter": "python",
   "pygments_lexer": "ipython3",
   "version": "3.11.5"
  }
 },
 "nbformat": 4,
 "nbformat_minor": 5
}
