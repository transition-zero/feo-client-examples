{
 "cells": [
  {
   "cell_type": "markdown",
   "metadata": {},
   "source": [
    "_To use this notebook you must have a (free) FEO account, available [here](https://feo.transitionzero.org/). You may then install the feo-client library, if necessary, and then use the package to log in. You can also run notebook in a Colab notebook via the badge below._"
   ]
  },
  {
   "cell_type": "markdown",
   "metadata": {},
   "source": [
    "<a target=\"_blank\" href=\"https://colab.research.google.com/github/transition-zero/feo-client-examples/blob/main/feo-client-examples/2_system_model_runs.ipynb\">\n",
    "  <img src=\"https://colab.research.google.com/assets/colab-badge.svg\" alt=\"Open In Colab\"/>\n",
    "</a>"
   ]
  },
  {
   "cell_type": "code",
   "execution_count": 1,
   "metadata": {},
   "outputs": [
    {
     "name": "stdout",
     "output_type": "stream",
     "text": [
      "Looking in indexes: https://pypi.org/simple, https://test.pypi.org/simple/\n",
      "Requirement already satisfied: feo-client==0.0.1a7 in /Users/adminuser/opt/anaconda3/envs/tz-tutorial/lib/python3.12/site-packages (0.0.1a7)\n",
      "Requirement already satisfied: pandas>2 in /Users/adminuser/opt/anaconda3/envs/tz-tutorial/lib/python3.12/site-packages (from feo-client==0.0.1a7) (2.0.3)\n",
      "Requirement already satisfied: pydantic>2 in /Users/adminuser/opt/anaconda3/envs/tz-tutorial/lib/python3.12/site-packages (from feo-client==0.0.1a7) (2.5.1)\n",
      "Requirement already satisfied: requests>=2.31 in /Users/adminuser/opt/anaconda3/envs/tz-tutorial/lib/python3.12/site-packages (from feo-client==0.0.1a7) (2.31.0)\n",
      "Requirement already satisfied: httpx>0.25 in /Users/adminuser/opt/anaconda3/envs/tz-tutorial/lib/python3.12/site-packages (from feo-client==0.0.1a7) (0.25.1)\n",
      "Requirement already satisfied: click>8.1 in /Users/adminuser/opt/anaconda3/envs/tz-tutorial/lib/python3.12/site-packages (from feo-client==0.0.1a7) (8.1.7)\n",
      "Requirement already satisfied: anyio in /Users/adminuser/opt/anaconda3/envs/tz-tutorial/lib/python3.12/site-packages (from httpx>0.25->feo-client==0.0.1a7) (4.0.0)\n",
      "Requirement already satisfied: certifi in /Users/adminuser/opt/anaconda3/envs/tz-tutorial/lib/python3.12/site-packages (from httpx>0.25->feo-client==0.0.1a7) (2023.11.17)\n",
      "Requirement already satisfied: httpcore in /Users/adminuser/opt/anaconda3/envs/tz-tutorial/lib/python3.12/site-packages (from httpx>0.25->feo-client==0.0.1a7) (1.0.2)\n",
      "Requirement already satisfied: idna in /Users/adminuser/opt/anaconda3/envs/tz-tutorial/lib/python3.12/site-packages (from httpx>0.25->feo-client==0.0.1a7) (3.4)\n",
      "Requirement already satisfied: sniffio in /Users/adminuser/opt/anaconda3/envs/tz-tutorial/lib/python3.12/site-packages (from httpx>0.25->feo-client==0.0.1a7) (1.3.0)\n",
      "Requirement already satisfied: python-dateutil>=2.8.2 in /Users/adminuser/opt/anaconda3/envs/tz-tutorial/lib/python3.12/site-packages (from pandas>2->feo-client==0.0.1a7) (2.8.2)\n",
      "Requirement already satisfied: pytz>=2020.1 in /Users/adminuser/opt/anaconda3/envs/tz-tutorial/lib/python3.12/site-packages (from pandas>2->feo-client==0.0.1a7) (2023.3.post1)\n",
      "Requirement already satisfied: tzdata>=2022.1 in /Users/adminuser/opt/anaconda3/envs/tz-tutorial/lib/python3.12/site-packages (from pandas>2->feo-client==0.0.1a7) (2023.3)\n",
      "Requirement already satisfied: numpy>=1.21.0 in /Users/adminuser/opt/anaconda3/envs/tz-tutorial/lib/python3.12/site-packages (from pandas>2->feo-client==0.0.1a7) (1.26.0)\n",
      "Requirement already satisfied: annotated-types>=0.4.0 in /Users/adminuser/opt/anaconda3/envs/tz-tutorial/lib/python3.12/site-packages (from pydantic>2->feo-client==0.0.1a7) (0.6.0)\n",
      "Requirement already satisfied: pydantic-core==2.14.3 in /Users/adminuser/opt/anaconda3/envs/tz-tutorial/lib/python3.12/site-packages (from pydantic>2->feo-client==0.0.1a7) (2.14.3)\n",
      "Requirement already satisfied: typing-extensions>=4.6.1 in /Users/adminuser/opt/anaconda3/envs/tz-tutorial/lib/python3.12/site-packages (from pydantic>2->feo-client==0.0.1a7) (4.8.0)\n",
      "Requirement already satisfied: charset-normalizer<4,>=2 in /Users/adminuser/opt/anaconda3/envs/tz-tutorial/lib/python3.12/site-packages (from requests>=2.31->feo-client==0.0.1a7) (3.3.2)\n",
      "Requirement already satisfied: urllib3<3,>=1.21.1 in /Users/adminuser/opt/anaconda3/envs/tz-tutorial/lib/python3.12/site-packages (from requests>=2.31->feo-client==0.0.1a7) (2.1.0)\n",
      "Requirement already satisfied: six>=1.5 in /Users/adminuser/opt/anaconda3/envs/tz-tutorial/lib/python3.12/site-packages (from python-dateutil>=2.8.2->pandas>2->feo-client==0.0.1a7) (1.16.0)\n",
      "Requirement already satisfied: h11<0.15,>=0.13 in /Users/adminuser/opt/anaconda3/envs/tz-tutorial/lib/python3.12/site-packages (from httpcore->httpx>0.25->feo-client==0.0.1a7) (0.14.0)\n"
     ]
    }
   ],
   "source": [
    "!pip install --extra-index-url https://test.pypi.org/simple/ feo-client==0.0.1a7"
   ]
  },
  {
   "cell_type": "code",
   "execution_count": 2,
   "metadata": {},
   "outputs": [
    {
     "name": "stdout",
     "output_type": "stream",
     "text": [
      "1. In a browser navigate to:  https://prod-feo-tz.eu.auth0.com/activate?user_code=LCRV-WNPJ\n",
      "2. Enter the following code:  LCRV-WNPJ\n",
      "Checking for authentication..Authenticated!\n",
      "- Id Token: eyJhbGciOi...\n"
     ]
    }
   ],
   "source": [
    "from feo.client.auth import login\n",
    "\n",
    "login()"
   ]
  },
  {
   "cell_type": "markdown",
   "metadata": {},
   "source": [
    "# System Model Runs\n",
    "_Object-oriented interface for System Model run results via the Python client_"
   ]
  },
  {
   "cell_type": "markdown",
   "metadata": {},
   "source": [
    "`Models` are used to represent specific applications of the FEO platform. They are characterised by their geographic, temporal, and sectoral scope. For instance, a model of Indonesia's power system from the present until 2050."
   ]
  },
  {
   "cell_type": "code",
   "execution_count": 3,
   "metadata": {},
   "outputs": [],
   "source": [
    "from feo.client import Model"
   ]
  },
  {
   "cell_type": "markdown",
   "metadata": {},
   "source": [
    "The `Model.search` method can be used to search for Models. This will return entries with matches to the model name. "
   ]
  },
  {
   "cell_type": "code",
   "execution_count": 14,
   "metadata": {},
   "outputs": [
    {
     "data": {
      "text/plain": [
       "Node(id='IND', node_type='admin_0', type_alias='country', name_primary_en='India', public=True, is_asset=False, properties=None, sector=None, asset_properties=None, parents=None, children=None)"
      ]
     },
     "execution_count": 14,
     "metadata": {},
     "output_type": "execute_result"
    }
   ],
   "source": [
    "IDN_MODEL = Model.search('feo-indonesia')\n",
    "IDN_MODEL"
   ]
  },
  {
   "cell_type": "code",
   "execution_count": 15,
   "metadata": {},
   "outputs": [
    {
     "name": "stdout",
     "output_type": "stream",
     "text": [
      "None\n"
     ]
    }
   ],
   "source": []
  },
  {
   "cell_type": "code",
   "execution_count": null,
   "metadata": {},
   "outputs": [],
   "source": []
  }
 ],
 "metadata": {
  "kernelspec": {
   "display_name": "Python 3.12.0 ('tz-tutorial')",
   "language": "python",
   "name": "python3"
  },
  "language_info": {
   "codemirror_mode": {
    "name": "ipython",
    "version": 3
   },
   "file_extension": ".py",
   "mimetype": "text/x-python",
   "name": "python",
   "nbconvert_exporter": "python",
   "pygments_lexer": "ipython3",
   "version": "3.12.0"
  },
  "orig_nbformat": 4,
  "vscode": {
   "interpreter": {
    "hash": "51f34ebfb92debe4114028f3ecf238bfc1e61564e7358682be5642cbfd01c3e0"
   }
  }
 },
 "nbformat": 4,
 "nbformat_minor": 2
}
