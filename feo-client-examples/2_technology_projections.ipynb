{
 "cells": [
  {
   "cell_type": "markdown",
   "id": "5fb8f14a-872d-4258-969c-a860c54f7404",
   "metadata": {},
   "source": [
    "_To use this notebook you must have a (free) FEO account, available [here](https://feo.transitionzero.org/). You may then install the feo-client library, if necessary, and then use the package to log in. You can also run notebook in a Colab notebook via the badge below._"
   ]
  },
  {
   "cell_type": "markdown",
   "id": "fab64fbd-5042-482a-9825-b5ddf9d430bc",
   "metadata": {},
   "source": [
    "<a target=\"_blank\" href=\"https://colab.research.google.com/github/transition-zero/feo-client-examples/blob/main/feo-client-examples/2_technology_projections.ipynb\">\n",
    "  <img src=\"https://colab.research.google.com/assets/colab-badge.svg\" alt=\"Open In Colab\"/>\n",
    "</a>"
   ]
  },
  {
   "cell_type": "code",
   "execution_count": null,
   "id": "5aea2d35-f311-46d2-8ccc-10923737468d",
   "metadata": {},
   "outputs": [],
   "source": [
    "!pip install feo-client"
   ]
  },
  {
   "cell_type": "code",
   "execution_count": null,
   "id": "77765e6c-9117-45d3-b143-131b88105b2a",
   "metadata": {
    "tags": [
     "skip-execution"
    ]
   },
   "outputs": [],
   "source": [
    "from feo.client.auth import login\n",
    "\n",
    "login()"
   ]
  },
  {
   "cell_type": "markdown",
   "id": "194d05df-995a-4a71-95e1-54e99127fd16",
   "metadata": {},
   "source": [
    "# Technology Projections\n",
    "\n",
    "_Object-oriented interface for technology projections via the Python Client_"
   ]
  },
  {
   "cell_type": "markdown",
   "id": "49a0eafd-385d-4928-ae28-576cdbf489ac",
   "metadata": {},
   "source": [
    "FEO supports a default set of `technologies`. Technologies are stylised representations of physical plants and equiment that convert energy and materials in systems models.\n",
    "\n",
    "Technologies have a set of 'parameters' that describe, for example, their capital or operational costs, their thermal efficiency, or emissions factors. Forward-looking views of these parameters are called projections. "
   ]
  },
  {
   "cell_type": "code",
   "execution_count": null,
   "id": "e2e45ac5-2526-4c13-8297-2194acd3c9ed",
   "metadata": {},
   "outputs": [],
   "source": [
    "from feo.client import Technology"
   ]
  },
  {
   "cell_type": "markdown",
   "id": "bfe29972-2511-4522-adfc-c79e8c5e5a92",
   "metadata": {},
   "source": [
    "Technologies can be searched for using the `search` method."
   ]
  },
  {
   "cell_type": "code",
   "execution_count": null,
   "id": "4a16ba3d-296e-48b5-a49a-1ca5c4bef3eb",
   "metadata": {},
   "outputs": [],
   "source": [
    "Technology.search(slug=\"coal\")"
   ]
  },
  {
   "cell_type": "markdown",
   "id": "24757992-5ee7-420d-bd7d-a8b130cd16c3",
   "metadata": {},
   "source": [
    "Technologies can also be directly instantiated using the `from_id` method."
   ]
  },
  {
   "cell_type": "code",
   "execution_count": null,
   "id": "8586c4ba-aaba-4b02-a3b5-4175644c9d28",
   "metadata": {},
   "outputs": [],
   "source": [
    "gas_combined_cycle = Technology.from_id(\"combined-cycle-gas-turbine\")"
   ]
  },
  {
   "cell_type": "markdown",
   "id": "5d2ee744-4f66-4296-b7bb-283c7d83a780",
   "metadata": {},
   "source": [
    "Technology projections can be retrieved using the technology object"
   ]
  },
  {
   "cell_type": "code",
   "execution_count": null,
   "id": "4b05105d-69ef-4bfe-9cbd-47712dab3a67",
   "metadata": {},
   "outputs": [],
   "source": [
    "gas_combined_cycle.projections"
   ]
  },
  {
   "cell_type": "markdown",
   "id": "06b4ea04-e75a-4183-8b99-d17f3e351c5b",
   "metadata": {},
   "source": [
    "Like asset-level production, projections are a `RecordCollection`, an extension of a Pandas DataFrame.\n",
    "Projections have a validity period, which may be open-ended."
   ]
  },
  {
   "cell_type": "code",
   "execution_count": null,
   "id": "bcc0b46a-68fd-4396-8dff-26fa018261c4",
   "metadata": {},
   "outputs": [],
   "source": [
    "gas_combined_cycle.projections.loc[\n",
    "    gas_combined_cycle.projections.valid_timestamp_start > \"2030-01-01\"\n",
    "]"
   ]
  },
  {
   "cell_type": "markdown",
   "id": "18daade1-8d30-4cbb-9989-3197f9e5ac2f",
   "metadata": {},
   "source": [
    "Individual record objects can be recovered with the `.to_records()` method."
   ]
  },
  {
   "cell_type": "code",
   "execution_count": null,
   "id": "07bb8824-6c1f-4a56-ab12-0681ce1cf781",
   "metadata": {},
   "outputs": [],
   "source": [
    "record = gas_combined_cycle.projections.iloc[0].to_records()"
   ]
  },
  {
   "cell_type": "markdown",
   "id": "2bbcbbb0-fdfd-4c5a-8d01-5b3e1cf9e471",
   "metadata": {},
   "source": [
    "Like other types of records, technology projections have data provenance. Records have a `source` and a `publisher`."
   ]
  }
 ],
 "metadata": {
  "kernelspec": {
   "display_name": "python3",
   "language": "python",
   "name": "python3"
  },
  "language_info": {
   "codemirror_mode": {
    "name": "ipython",
    "version": 3
   },
   "file_extension": ".py",
   "mimetype": "text/x-python",
   "name": "python",
   "nbconvert_exporter": "python",
   "pygments_lexer": "ipython3",
   "version": "3.11.5"
  }
 },
 "nbformat": 4,
 "nbformat_minor": 5
}
