{
 "cells": [
  {
   "cell_type": "markdown",
   "id": "91480ee2-9888-452d-bb77-dd9ab109656d",
   "metadata": {
    "tags": [
     "skip-execution"
    ]
   },
   "source": [
    "_To use this notebook you must have a (free) FEO account, available [here](https://feo.transitionzero.org/). You may then install the feo-client library, if necessary, and then use the package to log in. You can also run notebook in a Colab notebook via the badge below._"
   ]
  },
  {
   "cell_type": "markdown",
   "id": "08d59ed0-ddad-4e40-9e6e-4d5dfd23d7e6",
   "metadata": {},
   "source": [
    "<a target=\"_blank\" href=\"https://colab.research.google.com/github/transition-zero/feo-client-examples/blob/main/feo-client-examples/3_system_model_results.ipynb\">\n",
    "  <img src=\"https://colab.research.google.com/assets/colab-badge.svg\" alt=\"Open In Colab\"/>\n",
    "</a>"
   ]
  },
  {
   "cell_type": "code",
   "execution_count": null,
   "id": "4457078d-0c52-47f6-a244-88dab7b8da60",
   "metadata": {},
   "outputs": [],
   "source": [
    "!pip install --extra-index-url https://test.pypi.org/simple/ feo-client --pre"
   ]
  },
  {
   "cell_type": "code",
   "execution_count": null,
   "id": "5bfacd0c-59cc-4715-8f26-20f5274c6226",
   "metadata": {},
   "outputs": [],
   "source": [
    "from feo.client.auth import login\n",
    "\n",
    "login()"
   ]
  },
  {
   "cell_type": "markdown",
   "id": "0615b7ac-58fd-433b-af68-1af48b63e808",
   "metadata": {},
   "source": [
    "# System Models\n",
    "_Object-oriented interface for System Models via the Python Client_"
   ]
  },
  {
   "cell_type": "markdown",
   "id": "7a38cfaf-f155-4ae3-aa13-af84df33899b",
   "metadata": {},
   "source": [
    "System Models are representations of energy and material flows, usually optimised by economic logic like least-costs-minimisation.\n",
    "\n",
    "System models in FEO are composed of three objects - Models, Scenarios, and Runs.\n",
    "\n",
    "- **Models** describe the geographic, temporal, and sectoral scope of the systems model.\n",
    "- **Scenarios** are narrative counter-factuals of the future, which may be accompanied by numeric projections\n",
    "- **Runs** are solutions to parameterised systems models, used to explore uncertainty"
   ]
  },
  {
   "cell_type": "code",
   "execution_count": null,
   "id": "a53f01a8-8053-49bb-b6a7-5ce1dd3fe5a8",
   "metadata": {},
   "outputs": [],
   "source": [
    "from feo.client import Model, Scenario, Run"
   ]
  },
  {
   "cell_type": "markdown",
   "id": "9014908a-75bb-4547-9883-4e67aec87f78",
   "metadata": {},
   "source": [
    "The `Model` client can be used to search and retrieve model objects."
   ]
  },
  {
   "cell_type": "code",
   "execution_count": null,
   "id": "b45ee9db-180d-45ff-9d2e-3161842c7376",
   "metadata": {},
   "outputs": [],
   "source": [
    "Model.search(model_slug='feo-global-indonesia')"
   ]
  },
  {
   "cell_type": "markdown",
   "id": "b8fac23f-ebb1-431d-9fd7-0edf626bb94e",
   "metadata": {},
   "source": [
    "Models can also be retrieved directly by id"
   ]
  },
  {
   "cell_type": "code",
   "execution_count": null,
   "id": "d40e2bd4-38a8-4ee9-b193-07c9101262f5",
   "metadata": {},
   "outputs": [],
   "source": [
    "idn_model = Model.from_id('feo-global-indonesia')"
   ]
  },
  {
   "cell_type": "markdown",
   "id": "3a660cab-d0f2-48b5-95b8-55408d02b7bd",
   "metadata": {},
   "source": [
    "The scope nodes of the model can be retrieved from the model object"
   ]
  },
  {
   "cell_type": "code",
   "execution_count": null,
   "id": "3d8e7318-c991-4ced-bdbe-f086dd7e66ba",
   "metadata": {},
   "outputs": [],
   "source": [
    "idn_model.node_ids"
   ]
  },
  {
   "cell_type": "markdown",
   "id": "85f587e1-09b4-424b-9d93-d3aa0e748f71",
   "metadata": {},
   "source": [
    "Scenarios associated can also be retrieved from the model object."
   ]
  },
  {
   "cell_type": "code",
   "execution_count": null,
   "id": "a8a71871-6d15-47ef-bd86-0c62941e14d1",
   "metadata": {},
   "outputs": [],
   "source": [
    "idn_model.scenarios"
   ]
  },
  {
   "cell_type": "markdown",
   "id": "3a5d11cf-6164-4885-b703-b867b4adfa43",
   "metadata": {},
   "source": [
    "... as can the runs associated with scenarios"
   ]
  },
  {
   "cell_type": "code",
   "execution_count": null,
   "id": "e63673a0-e621-46b5-904a-c34b94ad5aed",
   "metadata": {},
   "outputs": [],
   "source": [
    "run = idn_model.scenarios[0].runs"
   ]
  },
  {
   "cell_type": "markdown",
   "id": "fe4985e0-acae-4046-ab32-6e2f8bd665bb",
   "metadata": {},
   "source": [
    "Any scenario or run object can also be instantiated directly from their id"
   ]
  },
  {
   "cell_type": "code",
   "execution_count": null,
   "id": "8247637a-1d1c-4b51-942b-fc7307b16973",
   "metadata": {},
   "outputs": [],
   "source": [
    "net_zero_scenario = Scenario.from_id('')\n",
    "net_zero_demo_run = Run.from_id('')"
   ]
  },
  {
   "cell_type": "markdown",
   "id": "2761c538-2d51-488e-aa1e-2c88f60ff848",
   "metadata": {},
   "source": [
    "## Run Data"
   ]
  },
  {
   "cell_type": "markdown",
   "id": "2e033423-a9bd-41d4-95bb-6169c78fb47b",
   "metadata": {},
   "source": [
    "System model results can be obtained from the `Run.results` object."
   ]
  },
  {
   "cell_type": "code",
   "execution_count": null,
   "id": "62bf535a-4f58-485a-bb62-1f8bfa81e504",
   "metadata": {},
   "outputs": [],
   "source": [
    "net_zero_demo_run.results"
   ]
  },
  {
   "cell_type": "markdown",
   "id": "16c3225a-12a0-4845-b5d3-171599370528",
   "metadata": {},
   "source": [
    "For capacity expansion models, the results object has `capacity`, `production`, `trade`, and `price` data. Each data type is exposed via a `ResultsCollection` object on `Run.results`."
   ]
  },
  {
   "cell_type": "code",
   "execution_count": null,
   "id": "29562e2a-cde5-4727-b07b-8d30e3983121",
   "metadata": {},
   "outputs": [],
   "source": [
    "net_zero_demo_run.results.capacity"
   ]
  },
  {
   "cell_type": "markdown",
   "id": "24acb208-a1c8-48bc-b821-efecb4222d12",
   "metadata": {},
   "source": [
    "Each `ResultsCollection` object can be filtered according to the `node` or `edge` that is of interest, particular technologies in the case of `capacity` or `production`, or particular commodities in the case of `trade` or `price`. "
   ]
  },
  {
   "cell_type": "code",
   "execution_count": null,
   "id": "c4090d7b-c66b-4b41-8821-b7a116080509",
   "metadata": {},
   "outputs": [],
   "source": [
    "net_zero_demo_run.results.capacity.filter(node_id='IDN',technology='coal')"
   ]
  },
  {
   "cell_type": "markdown",
   "id": "3ed59902-bf1d-41d5-a0bf-9db02b987335",
   "metadata": {},
   "source": [
    "Like other collection objects, a `ResultsCollection` can be paginated using the `next_page()` method. The `filter` parameters are persisted so only these results can be retrieved."
   ]
  },
  {
   "cell_type": "code",
   "execution_count": null,
   "id": "b63f4017-bfb9-464d-bd73-f11242b7104a",
   "metadata": {},
   "outputs": [],
   "source": [
    "net_zero_demo_run.results.capacity.next_page()"
   ]
  }
 ],
 "metadata": {
  "kernelspec": {
   "display_name": "Python (feo-client)",
   "language": "python",
   "name": "feo-client"
  },
  "language_info": {
   "codemirror_mode": {
    "name": "ipython",
    "version": 3
   },
   "file_extension": ".py",
   "mimetype": "text/x-python",
   "name": "python",
   "nbconvert_exporter": "python",
   "pygments_lexer": "ipython3",
   "version": "3.11.5"
  }
 },
 "nbformat": 4,
 "nbformat_minor": 5
}
