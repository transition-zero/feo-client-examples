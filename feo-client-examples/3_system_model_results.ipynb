{
 "cells": [
  {
   "cell_type": "markdown",
   "id": "91480ee2-9888-452d-bb77-dd9ab109656d",
   "metadata": {},
   "source": [
    "_To use this notebook you must have a (free) FEO account, available [here](https://feo.transitionzero.org/). You may then install the feo-client library, if necessary, and then use the package to log in. You can also run notebook in a Colab notebook via the badge below._"
   ]
  },
  {
   "cell_type": "markdown",
   "id": "08d59ed0-ddad-4e40-9e6e-4d5dfd23d7e6",
   "metadata": {},
   "source": [
    "<a target=\"_blank\" href=\"https://colab.research.google.com/github/transition-zero/feo-client-examples/blob/main/feo-client-examples/3_system_model_results.ipynb\">\n",
    "  <img src=\"https://colab.research.google.com/assets/colab-badge.svg\" alt=\"Open In Colab\"/>\n",
    "</a>"
   ]
  },
  {
   "cell_type": "code",
   "execution_count": 1,
   "id": "4457078d-0c52-47f6-a244-88dab7b8da60",
   "metadata": {},
   "outputs": [
    {
     "name": "stdout",
     "output_type": "stream",
     "text": [
      "Looking in indexes: https://pypi.org/simple, https://test.pypi.org/simple/\n",
      "Requirement already satisfied: feo-client==0.0.1a9 in /Users/adminuser/.pyenv/versions/3.10.6/lib/python3.10/site-packages (0.0.1a9)\n",
      "Requirement already satisfied: requests>=2.31 in /Users/adminuser/.pyenv/versions/3.10.6/lib/python3.10/site-packages (from feo-client==0.0.1a9) (2.31.0)\n",
      "Requirement already satisfied: httpx>0.25 in /Users/adminuser/.pyenv/versions/3.10.6/lib/python3.10/site-packages (from feo-client==0.0.1a9) (0.25.1)\n",
      "Requirement already satisfied: pydantic>2 in /Users/adminuser/.pyenv/versions/3.10.6/lib/python3.10/site-packages (from feo-client==0.0.1a9) (2.5.2)\n",
      "Requirement already satisfied: click>8.1 in /Users/adminuser/.pyenv/versions/3.10.6/lib/python3.10/site-packages (from feo-client==0.0.1a9) (8.1.7)\n",
      "Requirement already satisfied: pandas>2 in /Users/adminuser/.pyenv/versions/3.10.6/lib/python3.10/site-packages (from feo-client==0.0.1a9) (2.1.3)\n",
      "Requirement already satisfied: certifi in /Users/adminuser/.pyenv/versions/3.10.6/lib/python3.10/site-packages (from httpx>0.25->feo-client==0.0.1a9) (2023.11.17)\n",
      "Requirement already satisfied: anyio in /Users/adminuser/.pyenv/versions/3.10.6/lib/python3.10/site-packages (from httpx>0.25->feo-client==0.0.1a9) (4.1.0)\n",
      "Requirement already satisfied: sniffio in /Users/adminuser/.pyenv/versions/3.10.6/lib/python3.10/site-packages (from httpx>0.25->feo-client==0.0.1a9) (1.3.0)\n",
      "Requirement already satisfied: idna in /Users/adminuser/.pyenv/versions/3.10.6/lib/python3.10/site-packages (from httpx>0.25->feo-client==0.0.1a9) (3.4)\n",
      "Requirement already satisfied: httpcore in /Users/adminuser/.pyenv/versions/3.10.6/lib/python3.10/site-packages (from httpx>0.25->feo-client==0.0.1a9) (1.0.2)\n",
      "Requirement already satisfied: numpy<2,>=1.22.4 in /Users/adminuser/.pyenv/versions/3.10.6/lib/python3.10/site-packages (from pandas>2->feo-client==0.0.1a9) (1.26.2)\n",
      "Requirement already satisfied: pytz>=2020.1 in /Users/adminuser/.pyenv/versions/3.10.6/lib/python3.10/site-packages (from pandas>2->feo-client==0.0.1a9) (2023.3.post1)\n",
      "Requirement already satisfied: tzdata>=2022.1 in /Users/adminuser/.pyenv/versions/3.10.6/lib/python3.10/site-packages (from pandas>2->feo-client==0.0.1a9) (2023.3)\n",
      "Requirement already satisfied: python-dateutil>=2.8.2 in /Users/adminuser/.pyenv/versions/3.10.6/lib/python3.10/site-packages (from pandas>2->feo-client==0.0.1a9) (2.8.2)\n",
      "Requirement already satisfied: typing-extensions>=4.6.1 in /Users/adminuser/.pyenv/versions/3.10.6/lib/python3.10/site-packages (from pydantic>2->feo-client==0.0.1a9) (4.8.0)\n",
      "Requirement already satisfied: pydantic-core==2.14.5 in /Users/adminuser/.pyenv/versions/3.10.6/lib/python3.10/site-packages (from pydantic>2->feo-client==0.0.1a9) (2.14.5)\n",
      "Requirement already satisfied: annotated-types>=0.4.0 in /Users/adminuser/.pyenv/versions/3.10.6/lib/python3.10/site-packages (from pydantic>2->feo-client==0.0.1a9) (0.6.0)\n",
      "Requirement already satisfied: charset-normalizer<4,>=2 in /Users/adminuser/.pyenv/versions/3.10.6/lib/python3.10/site-packages (from requests>=2.31->feo-client==0.0.1a9) (3.3.2)\n",
      "Requirement already satisfied: urllib3<3,>=1.21.1 in /Users/adminuser/.pyenv/versions/3.10.6/lib/python3.10/site-packages (from requests>=2.31->feo-client==0.0.1a9) (2.1.0)\n",
      "Requirement already satisfied: six>=1.5 in /Users/adminuser/.pyenv/versions/3.10.6/lib/python3.10/site-packages (from python-dateutil>=2.8.2->pandas>2->feo-client==0.0.1a9) (1.16.0)\n",
      "Requirement already satisfied: exceptiongroup>=1.0.2 in /Users/adminuser/.pyenv/versions/3.10.6/lib/python3.10/site-packages (from anyio->httpx>0.25->feo-client==0.0.1a9) (1.1.3)\n",
      "Requirement already satisfied: h11<0.15,>=0.13 in /Users/adminuser/.pyenv/versions/3.10.6/lib/python3.10/site-packages (from httpcore->httpx>0.25->feo-client==0.0.1a9) (0.14.0)\n",
      "\n",
      "\u001b[1m[\u001b[0m\u001b[34;49mnotice\u001b[0m\u001b[1;39;49m]\u001b[0m\u001b[39;49m A new release of pip available: \u001b[0m\u001b[31;49m22.2.1\u001b[0m\u001b[39;49m -> \u001b[0m\u001b[32;49m23.3.1\u001b[0m\n",
      "\u001b[1m[\u001b[0m\u001b[34;49mnotice\u001b[0m\u001b[1;39;49m]\u001b[0m\u001b[39;49m To update, run: \u001b[0m\u001b[32;49mpip install --upgrade pip\u001b[0m\n"
     ]
    }
   ],
   "source": [
    "!pip install --extra-index-url https://test.pypi.org/simple/ feo-client==0.0.1a9"
   ]
  },
  {
   "cell_type": "code",
   "execution_count": null,
   "id": "5bfacd0c-59cc-4715-8f26-20f5274c6226",
   "metadata": {},
   "outputs": [],
   "source": [
    "from feo.client.auth import login\n",
    "\n",
    "login()"
   ]
  },
  {
   "cell_type": "markdown",
   "id": "0615b7ac-58fd-433b-af68-1af48b63e808",
   "metadata": {},
   "source": [
    "# System Models\n",
    "_Object-oriented interface for System Models via the Python Client_"
   ]
  },
  {
   "cell_type": "markdown",
   "id": "7a38cfaf-f155-4ae3-aa13-af84df33899b",
   "metadata": {},
   "source": [
    "System Models are representations of energy and material flows, usually optimised by economic logic like least-costs-minimisation.\n",
    "\n",
    "System models in FEO are composed of three objects - Models, Scenarios, and Runs.\n",
    "\n",
    "- **Models** describe the geographic, temporal, and sectoral scope of the systems model.\n",
    "- **Scenarios** are narrative counter-factuals of the future, which may be accompanied by numeric projections\n",
    "- **Runs** are solutions to parameterised systems models, used to explore uncertainty"
   ]
  },
  {
   "cell_type": "code",
   "execution_count": 2,
   "id": "a53f01a8-8053-49bb-b6a7-5ce1dd3fe5a8",
   "metadata": {},
   "outputs": [
    {
     "name": "stderr",
     "output_type": "stream",
     "text": [
      "/Users/adminuser/.pyenv/versions/3.10.6/lib/python3.10/site-packages/pydantic/_internal/_config.py:321: UserWarning: Valid config keys have changed in V2:\n",
      "* 'orm_mode' has been renamed to 'from_attributes'\n",
      "  warnings.warn(message, UserWarning)\n",
      "/Users/adminuser/.pyenv/versions/3.10.6/lib/python3.10/site-packages/pydantic/_internal/_fields.py:149: UserWarning: Field \"model_slug\" has conflict with protected namespace \"model_\".\n",
      "\n",
      "You may be able to resolve this warning by setting `model_config['protected_namespaces'] = ()`.\n",
      "  warnings.warn(\n"
     ]
    }
   ],
   "source": [
    "from feo.client import Model, Scenario, Run"
   ]
  },
  {
   "cell_type": "markdown",
   "id": "9014908a-75bb-4547-9883-4e67aec87f78",
   "metadata": {},
   "source": [
    "The `Model` client can be used to search and retrieve model objects."
   ]
  },
  {
   "cell_type": "code",
   "execution_count": 9,
   "id": "b45ee9db-180d-45ff-9d2e-3161842c7376",
   "metadata": {},
   "outputs": [
    {
     "data": {
      "text/plain": [
       "[Model(name='Indonesia JETP', slug='feo-global-indonesia', description='A model of Indonesia’s power system. This study compares decarbonisation scenarios and early coal retirement against a least cost pathway.', version='demo', time_scope=TimeScopeOutput(contiguous=None, representative_slices=TimeScopeSlices(parts=[TimeScopeSlicePart(id='0', description='null')], dayparts=None, yearparts=None)), datetime_range_start=datetime.datetime(2021, 1, 1, 0, 0), datetime_range_end=datetime.datetime(2050, 12, 31, 0, 0), sectors=['power'], status='published', node_ids=['IDN-AC', 'IDN-BA', 'IDN-BB', 'IDN-BE', 'IDN-BT', 'IDN-GO', 'IDN-JA', 'IDN-JB', 'IDN-JI', 'IDN-JK', 'IDN-JT', 'IDN-KB', 'IDN-KI', 'IDN-KR', 'IDN-KS', 'IDN-KT', 'IDN-KU', 'IDN-LA', 'IDN-MA', 'IDN-MU', 'IDN-NB', 'IDN-NT', 'IDN-PA', 'IDN-PB', 'IDN-RI', 'IDN-SA', 'IDN-SB', 'IDN-SG', 'IDN-SN', 'IDN-SS', 'IDN-ST', 'IDN-SU', 'IDN-YO'], representative_node_ids=['IDN'], public=True, featured=0, data=None, links=[], owner_id='auth0|646b3fec47a69cf80cca41a9', views=None, stars=None, owner=None, scenarios=None, node_type_summary=[NodeTypeSummaryElement(type_alias='admin_1', node_count=33)], featured_scenario=None, preview_image_url=None)]"
      ]
     },
     "execution_count": 9,
     "metadata": {},
     "output_type": "execute_result"
    }
   ],
   "source": [
    "Model.search(model_slug='feo-global-indonesia')"
   ]
  },
  {
   "cell_type": "markdown",
   "id": "b8fac23f-ebb1-431d-9fd7-0edf626bb94e",
   "metadata": {},
   "source": [
    "Models can also be retrieved directly by id"
   ]
  },
  {
   "cell_type": "code",
   "execution_count": 12,
   "id": "d40e2bd4-38a8-4ee9-b193-07c9101262f5",
   "metadata": {},
   "outputs": [],
   "source": [
    "ic_model = Model.from_id('feo-global-indonesia')"
   ]
  },
  {
   "cell_type": "markdown",
   "id": "3a660cab-d0f2-48b5-95b8-55408d02b7bd",
   "metadata": {},
   "source": [
    "The scope nodes of the model can be retrieved from the model object"
   ]
  },
  {
   "cell_type": "code",
   "execution_count": 14,
   "id": "3d8e7318-c991-4ced-bdbe-f086dd7e66ba",
   "metadata": {},
   "outputs": [
    {
     "data": {
      "text/plain": [
       "['IDN-AC',\n",
       " 'IDN-BA',\n",
       " 'IDN-BB',\n",
       " 'IDN-BE',\n",
       " 'IDN-BT',\n",
       " 'IDN-GO',\n",
       " 'IDN-JA',\n",
       " 'IDN-JB',\n",
       " 'IDN-JI',\n",
       " 'IDN-JK',\n",
       " 'IDN-JT',\n",
       " 'IDN-KB',\n",
       " 'IDN-KI',\n",
       " 'IDN-KR',\n",
       " 'IDN-KS',\n",
       " 'IDN-KT',\n",
       " 'IDN-KU',\n",
       " 'IDN-LA',\n",
       " 'IDN-MA',\n",
       " 'IDN-MU',\n",
       " 'IDN-NB',\n",
       " 'IDN-NT',\n",
       " 'IDN-PA',\n",
       " 'IDN-PB',\n",
       " 'IDN-RI',\n",
       " 'IDN-SA',\n",
       " 'IDN-SB',\n",
       " 'IDN-SG',\n",
       " 'IDN-SN',\n",
       " 'IDN-SS',\n",
       " 'IDN-ST',\n",
       " 'IDN-SU',\n",
       " 'IDN-YO']"
      ]
     },
     "execution_count": 14,
     "metadata": {},
     "output_type": "execute_result"
    }
   ],
   "source": [
    "ic_model.node_ids"
   ]
  },
  {
   "cell_type": "markdown",
   "id": "85f587e1-09b4-424b-9d93-d3aa0e748f71",
   "metadata": {},
   "source": [
    "Scenarios associated can also be retrieved from the model object."
   ]
  },
  {
   "cell_type": "code",
   "execution_count": 15,
   "id": "a8a71871-6d15-47ef-bd86-0c62941e14d1",
   "metadata": {},
   "outputs": [],
   "source": [
    "ic_model.scenarios"
   ]
  },
  {
   "cell_type": "markdown",
   "id": "3a5d11cf-6164-4885-b703-b867b4adfa43",
   "metadata": {},
   "source": [
    "... as can the runs associated with scenarios"
   ]
  },
  {
   "cell_type": "code",
   "execution_count": 16,
   "id": "e63673a0-e621-46b5-904a-c34b94ad5aed",
   "metadata": {},
   "outputs": [
    {
     "ename": "TypeError",
     "evalue": "'NoneType' object is not subscriptable",
     "output_type": "error",
     "traceback": [
      "\u001b[0;31m---------------------------------------------------------------------------\u001b[0m",
      "\u001b[0;31mTypeError\u001b[0m                                 Traceback (most recent call last)",
      "Cell \u001b[0;32mIn[16], line 1\u001b[0m\n\u001b[0;32m----> 1\u001b[0m run \u001b[38;5;241m=\u001b[39m \u001b[43mic_model\u001b[49m\u001b[38;5;241;43m.\u001b[39;49m\u001b[43mscenarios\u001b[49m\u001b[43m[\u001b[49m\u001b[38;5;241;43m0\u001b[39;49m\u001b[43m]\u001b[49m\u001b[38;5;241m.\u001b[39mruns\n",
      "\u001b[0;31mTypeError\u001b[0m: 'NoneType' object is not subscriptable"
     ]
    }
   ],
   "source": [
    "run = ic_model.scenarios[0].runs"
   ]
  },
  {
   "cell_type": "markdown",
   "id": "fe4985e0-acae-4046-ab32-6e2f8bd665bb",
   "metadata": {},
   "source": [
    "Any scenario or run object can also be instantiated directly from their id"
   ]
  },
  {
   "cell_type": "code",
   "execution_count": 41,
   "id": "8247637a-1d1c-4b51-942b-fc7307b16973",
   "metadata": {},
   "outputs": [
    {
     "ename": "HTTPStatusError",
     "evalue": "Client error '422 Unprocessable Entity' for url 'https://api.feo.transitionzero.org/v1/scenarios/feo-global-indonesia?includes='\nFor more information check: https://developer.mozilla.org/en-US/docs/Web/HTTP/Status/422",
     "output_type": "error",
     "traceback": [
      "\u001b[0;31m---------------------------------------------------------------------------\u001b[0m",
      "\u001b[0;31mHTTPStatusError\u001b[0m                           Traceback (most recent call last)",
      "Cell \u001b[0;32mIn[41], line 1\u001b[0m\n\u001b[0;32m----> 1\u001b[0m net_zero_scenario \u001b[38;5;241m=\u001b[39m \u001b[43mScenario\u001b[49m\u001b[38;5;241;43m.\u001b[39;49m\u001b[43mfrom_id\u001b[49m\u001b[43m(\u001b[49m\u001b[38;5;124;43m'\u001b[39;49m\u001b[38;5;124;43mfeo-global-indonesia\u001b[39;49m\u001b[38;5;124;43m'\u001b[39;49m\u001b[43m)\u001b[49m\n\u001b[1;32m      2\u001b[0m net_zero_demo_run \u001b[38;5;241m=\u001b[39m Run\u001b[38;5;241m.\u001b[39mfrom_id(\u001b[38;5;124m'\u001b[39m\u001b[38;5;124mfeo-global-indonesia\u001b[39m\u001b[38;5;124m'\u001b[39m)\n",
      "File \u001b[0;32m~/.pyenv/versions/3.10.6/lib/python3.10/site-packages/feo/client/scenario.py:19\u001b[0m, in \u001b[0;36mScenario.from_id\u001b[0;34m(cls, id)\u001b[0m\n\u001b[1;32m      8\u001b[0m \u001b[39m@classmethod\u001b[39m\n\u001b[1;32m      9\u001b[0m \u001b[39mdef\u001b[39;00m \u001b[39mfrom_id\u001b[39m(\u001b[39mcls\u001b[39m, \u001b[39mid\u001b[39m: \u001b[39mstr\u001b[39m) \u001b[39m-\u001b[39m\u001b[39m>\u001b[39m \u001b[39m\"\u001b[39m\u001b[39mScenario\u001b[39m\u001b[39m\"\u001b[39m:\n\u001b[1;32m     10\u001b[0m \u001b[39m    \u001b[39m\u001b[39m\"\"\"\u001b[39;00m\n\u001b[1;32m     11\u001b[0m \u001b[39m    Initialize the Scenario object from an ID.\u001b[39;00m\n\u001b[1;32m     12\u001b[0m \n\u001b[0;32m   (...)\u001b[0m\n\u001b[1;32m     17\u001b[0m \u001b[39m        Scenario: A Scenario object.\u001b[39;00m\n\u001b[1;32m     18\u001b[0m \u001b[39m    \"\"\"\u001b[39;00m\n\u001b[0;32m---> 19\u001b[0m     scenario \u001b[39m=\u001b[39m api\u001b[39m.\u001b[39;49mscenarios\u001b[39m.\u001b[39;49mget(fullslug\u001b[39m=\u001b[39;49m\u001b[39mid\u001b[39;49m)\n\u001b[1;32m     20\u001b[0m     \u001b[39mreturn\u001b[39;00m \u001b[39mcls\u001b[39m(\u001b[39m*\u001b[39m\u001b[39m*\u001b[39mscenario\u001b[39m.\u001b[39mmodel_dump())\n",
      "File \u001b[0;32m~/.pyenv/versions/3.10.6/lib/python3.10/site-packages/feo/client/api/scenarios.py:18\u001b[0m, in \u001b[0;36mScenarioAPI.get\u001b[0;34m(self, fullslug, includes)\u001b[0m\n\u001b[1;32m     13\u001b[0m params \u001b[39m=\u001b[39m {\n\u001b[1;32m     14\u001b[0m     \u001b[39m\"\u001b[39m\u001b[39mincludes\u001b[39m\u001b[39m\"\u001b[39m: includes,\n\u001b[1;32m     15\u001b[0m }\n\u001b[1;32m     17\u001b[0m resp \u001b[39m=\u001b[39m \u001b[39mself\u001b[39m\u001b[39m.\u001b[39mclient\u001b[39m.\u001b[39mget(\u001b[39mf\u001b[39m\u001b[39m\"\u001b[39m\u001b[39m/scenarios/\u001b[39m\u001b[39m{\u001b[39;00mfullslug\u001b[39m}\u001b[39;00m\u001b[39m\"\u001b[39m, params\u001b[39m=\u001b[39mparams)\n\u001b[0;32m---> 18\u001b[0m resp\u001b[39m.\u001b[39;49mraise_for_status()\n\u001b[1;32m     20\u001b[0m \u001b[39mreturn\u001b[39;00m Scenario(\u001b[39m*\u001b[39m\u001b[39m*\u001b[39mresp\u001b[39m.\u001b[39mjson())\n",
      "File \u001b[0;32m~/.pyenv/versions/3.10.6/lib/python3.10/site-packages/httpx/_models.py:758\u001b[0m, in \u001b[0;36mResponse.raise_for_status\u001b[0;34m(self)\u001b[0m\n\u001b[1;32m    756\u001b[0m error_type \u001b[39m=\u001b[39m error_types\u001b[39m.\u001b[39mget(status_class, \u001b[39m\"\u001b[39m\u001b[39mInvalid status code\u001b[39m\u001b[39m\"\u001b[39m)\n\u001b[1;32m    757\u001b[0m message \u001b[39m=\u001b[39m message\u001b[39m.\u001b[39mformat(\u001b[39mself\u001b[39m, error_type\u001b[39m=\u001b[39merror_type)\n\u001b[0;32m--> 758\u001b[0m \u001b[39mraise\u001b[39;00m HTTPStatusError(message, request\u001b[39m=\u001b[39mrequest, response\u001b[39m=\u001b[39m\u001b[39mself\u001b[39m)\n",
      "\u001b[0;31mHTTPStatusError\u001b[0m: Client error '422 Unprocessable Entity' for url 'https://api.feo.transitionzero.org/v1/scenarios/feo-global-indonesia?includes='\nFor more information check: https://developer.mozilla.org/en-US/docs/Web/HTTP/Status/422"
     ]
    }
   ],
   "source": [
    "net_zero_scenario = Scenario.from_id('')\n",
    "net_zero_demo_run = Run.from_id('')"
   ]
  },
  {
   "cell_type": "markdown",
   "id": "2761c538-2d51-488e-aa1e-2c88f60ff848",
   "metadata": {},
   "source": [
    "## Run Data"
   ]
  },
  {
   "cell_type": "markdown",
   "id": "2e033423-a9bd-41d4-95bb-6169c78fb47b",
   "metadata": {},
   "source": [
    "System model results can be obtained from the `Run.results` object."
   ]
  },
  {
   "cell_type": "code",
   "execution_count": null,
   "id": "62bf535a-4f58-485a-bb62-1f8bfa81e504",
   "metadata": {},
   "outputs": [],
   "source": [
    "net_zero_demo_run.results"
   ]
  },
  {
   "cell_type": "markdown",
   "id": "16c3225a-12a0-4845-b5d3-171599370528",
   "metadata": {},
   "source": [
    "For capacity expansion models, the results object has `capacity`, `production`, `trade`, and `price` data. Each data type is exposed via a `ResultsCollection` object on `Run.results`."
   ]
  },
  {
   "cell_type": "code",
   "execution_count": null,
   "id": "29562e2a-cde5-4727-b07b-8d30e3983121",
   "metadata": {},
   "outputs": [],
   "source": [
    "net_zero_demo_run.results.capacity"
   ]
  },
  {
   "cell_type": "markdown",
   "id": "24acb208-a1c8-48bc-b821-efecb4222d12",
   "metadata": {},
   "source": [
    "Each `ResultsCollection` object can be filtered according to the `node` or `edge` that is of interest, particular technologies in the case of `capacity` or `production`, or particular commodities in the case of `trade` or `price`. "
   ]
  },
  {
   "cell_type": "code",
   "execution_count": null,
   "id": "c4090d7b-c66b-4b41-8821-b7a116080509",
   "metadata": {},
   "outputs": [],
   "source": [
    "net_zero_demo_run.results.capacity.filter(node_id='IDN',technology='coal')"
   ]
  },
  {
   "cell_type": "markdown",
   "id": "3ed59902-bf1d-41d5-a0bf-9db02b987335",
   "metadata": {},
   "source": [
    "Like other collection objects, a `ResultsCollection` can be paginated using the `next_page()` method. The `filter` parameters are persisted so only these results can be retrieved."
   ]
  },
  {
   "cell_type": "code",
   "execution_count": null,
   "id": "b63f4017-bfb9-464d-bd73-f11242b7104a",
   "metadata": {},
   "outputs": [],
   "source": [
    "net_zero_demo_run.results.capacity.next_page()"
   ]
  }
 ],
 "metadata": {
  "kernelspec": {
   "display_name": "Python (feo-client)",
   "language": "python",
   "name": "feo-client"
  },
  "language_info": {
   "codemirror_mode": {
    "name": "ipython",
    "version": 3
   },
   "file_extension": ".py",
   "mimetype": "text/x-python",
   "name": "python",
   "nbconvert_exporter": "python",
   "pygments_lexer": "ipython3",
   "version": "3.11.5"
  }
 },
 "nbformat": 4,
 "nbformat_minor": 5
}
