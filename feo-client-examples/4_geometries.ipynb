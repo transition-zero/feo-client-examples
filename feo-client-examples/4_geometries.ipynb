{
 "cells": [
  {
   "cell_type": "markdown",
   "id": "b6b293dc-d42c-4ac5-99be-e7f79748645e",
   "metadata": {},
   "source": [
    "_To use this notebook you must have a (free) FEO account, available [here](https://feo.transitionzero.org/). You may then install the feo-client library, if necessary, and then use the package to log in. You can also run notebook in a Colab notebook via the badge below._"
   ]
  },
  {
   "cell_type": "markdown",
   "id": "b1d45911-c183-4916-84a7-735da5464da9",
   "metadata": {},
   "source": [
    "<a target=\"_blank\" href=\"https://colab.research.google.com/github/transition-zero/feo-client-examples/blob/main/feo-client-examples/4_geometries.ipynb\">\n",
    "  <img src=\"https://colab.research.google.com/assets/colab-badge.svg\" alt=\"Open In Colab\"/>\n",
    "</a>"
   ]
  },
  {
   "cell_type": "code",
   "execution_count": 1,
   "id": "eb6e3170-6041-474f-8d91-07502bb0f4dd",
   "metadata": {},
   "outputs": [
    {
     "name": "stdout",
     "output_type": "stream",
     "text": [
      "Looking in indexes: https://pypi.org/simple, https://test.pypi.org/simple/\n",
      "Requirement already satisfied: feo-client[geo] in /Users/calvinnesbitt/miniconda3/envs/feo-client/lib/python3.11/site-packages (0.0.1a9)\n",
      "\u001b[33mWARNING: feo-client 0.0.1a9 does not provide the extra 'geo'\u001b[0m\u001b[33m\n",
      "\u001b[0mRequirement already satisfied: pandas>2 in /Users/calvinnesbitt/miniconda3/envs/feo-client/lib/python3.11/site-packages (from feo-client[geo]) (2.1.3)\n",
      "Requirement already satisfied: pydantic>2 in /Users/calvinnesbitt/miniconda3/envs/feo-client/lib/python3.11/site-packages (from feo-client[geo]) (2.5.2)\n",
      "Requirement already satisfied: requests>=2.31 in /Users/calvinnesbitt/miniconda3/envs/feo-client/lib/python3.11/site-packages (from feo-client[geo]) (2.31.0)\n",
      "Requirement already satisfied: httpx>0.25 in /Users/calvinnesbitt/miniconda3/envs/feo-client/lib/python3.11/site-packages (from feo-client[geo]) (0.25.2)\n",
      "Requirement already satisfied: click>8.1 in /Users/calvinnesbitt/miniconda3/envs/feo-client/lib/python3.11/site-packages (from feo-client[geo]) (8.1.7)\n",
      "Requirement already satisfied: anyio in /Users/calvinnesbitt/miniconda3/envs/feo-client/lib/python3.11/site-packages (from httpx>0.25->feo-client[geo]) (4.1.0)\n",
      "Requirement already satisfied: certifi in /Users/calvinnesbitt/miniconda3/envs/feo-client/lib/python3.11/site-packages (from httpx>0.25->feo-client[geo]) (2023.11.17)\n",
      "Requirement already satisfied: httpcore==1.* in /Users/calvinnesbitt/miniconda3/envs/feo-client/lib/python3.11/site-packages (from httpx>0.25->feo-client[geo]) (1.0.2)\n",
      "Requirement already satisfied: idna in /Users/calvinnesbitt/miniconda3/envs/feo-client/lib/python3.11/site-packages (from httpx>0.25->feo-client[geo]) (3.6)\n",
      "Requirement already satisfied: sniffio in /Users/calvinnesbitt/miniconda3/envs/feo-client/lib/python3.11/site-packages (from httpx>0.25->feo-client[geo]) (1.3.0)\n",
      "Requirement already satisfied: h11<0.15,>=0.13 in /Users/calvinnesbitt/miniconda3/envs/feo-client/lib/python3.11/site-packages (from httpcore==1.*->httpx>0.25->feo-client[geo]) (0.14.0)\n",
      "Requirement already satisfied: numpy<2,>=1.23.2 in /Users/calvinnesbitt/miniconda3/envs/feo-client/lib/python3.11/site-packages (from pandas>2->feo-client[geo]) (1.26.2)\n",
      "Requirement already satisfied: python-dateutil>=2.8.2 in /Users/calvinnesbitt/miniconda3/envs/feo-client/lib/python3.11/site-packages (from pandas>2->feo-client[geo]) (2.8.2)\n",
      "Requirement already satisfied: pytz>=2020.1 in /Users/calvinnesbitt/miniconda3/envs/feo-client/lib/python3.11/site-packages (from pandas>2->feo-client[geo]) (2023.3.post1)\n",
      "Requirement already satisfied: tzdata>=2022.1 in /Users/calvinnesbitt/miniconda3/envs/feo-client/lib/python3.11/site-packages (from pandas>2->feo-client[geo]) (2023.3)\n",
      "Requirement already satisfied: annotated-types>=0.4.0 in /Users/calvinnesbitt/miniconda3/envs/feo-client/lib/python3.11/site-packages (from pydantic>2->feo-client[geo]) (0.6.0)\n",
      "Requirement already satisfied: pydantic-core==2.14.5 in /Users/calvinnesbitt/miniconda3/envs/feo-client/lib/python3.11/site-packages (from pydantic>2->feo-client[geo]) (2.14.5)\n",
      "Requirement already satisfied: typing-extensions>=4.6.1 in /Users/calvinnesbitt/miniconda3/envs/feo-client/lib/python3.11/site-packages (from pydantic>2->feo-client[geo]) (4.8.0)\n",
      "Requirement already satisfied: charset-normalizer<4,>=2 in /Users/calvinnesbitt/miniconda3/envs/feo-client/lib/python3.11/site-packages (from requests>=2.31->feo-client[geo]) (3.3.2)\n",
      "Requirement already satisfied: urllib3<3,>=1.21.1 in /Users/calvinnesbitt/miniconda3/envs/feo-client/lib/python3.11/site-packages (from requests>=2.31->feo-client[geo]) (2.1.0)\n",
      "Requirement already satisfied: six>=1.5 in /Users/calvinnesbitt/miniconda3/envs/feo-client/lib/python3.11/site-packages (from python-dateutil>=2.8.2->pandas>2->feo-client[geo]) (1.16.0)\n",
      "Note: you may need to restart the kernel to use updated packages.\n"
     ]
    }
   ],
   "source": [
    "%pip install --extra-index-url https://test.pypi.org/simple/ \"feo-client[geo]\" --pre"
   ]
  },
  {
   "cell_type": "code",
   "execution_count": 2,
   "id": "16eb2e8c-04df-4ede-8eb5-7a9e5621a2c6",
   "metadata": {
    "tags": [
     "skip-execution"
    ]
   },
   "outputs": [
    {
     "name": "stderr",
     "output_type": "stream",
     "text": [
      "/Users/calvinnesbitt/miniconda3/envs/feo-client/lib/python3.11/site-packages/pydantic/_internal/_config.py:321: UserWarning: Valid config keys have changed in V2:\n",
      "* 'orm_mode' has been renamed to 'from_attributes'\n",
      "  warnings.warn(message, UserWarning)\n",
      "/Users/calvinnesbitt/miniconda3/envs/feo-client/lib/python3.11/site-packages/pydantic/_internal/_fields.py:149: UserWarning: Field \"model_slug\" has conflict with protected namespace \"model_\".\n",
      "\n",
      "You may be able to resolve this warning by setting `model_config['protected_namespaces'] = ()`.\n",
      "  warnings.warn(\n"
     ]
    },
    {
     "name": "stdout",
     "output_type": "stream",
     "text": [
      "1. In a browser navigate to:  https://prod-feo-tz.eu.auth0.com/activate?user_code=JDLS-TVSR\n",
      "2. Enter the following code:  JDLS-TVSR\n",
      "Checking for authentication.Authenticated!\n",
      "- Id Token: eyJhbGciOi...\n"
     ]
    }
   ],
   "source": [
    "from feo.client.auth import login\n",
    "\n",
    "login()"
   ]
  },
  {
   "attachments": {},
   "cell_type": "markdown",
   "id": "231207b7-7454-42d5-8509-e0d9209e342d",
   "metadata": {},
   "source": [
    "## Geospatial\n",
    "\n",
    "_Object-oriented interface for Nodes via the Python client_"
   ]
  },
  {
   "cell_type": "markdown",
   "id": "786baa08-19b0-4c22-bc29-512ceb696083",
   "metadata": {},
   "source": [
    "FEO comprises a wide variety of geospatial data, covering vector and raster data types. Vector types include `node geometries`, `hydrobasins`, `exclusive economic zones` and `protected areas`. Each of these exists as a `Collection` that can be browsed and searched via several methods.\n",
    "\n",
    "In this notebook we will gather some vector data for a node, namely:\n",
    "- The node geometry\n",
    "- The protected areas intersecting the node geometry"
   ]
  },
  {
   "cell_type": "markdown",
   "id": "229d52dd-84a5-477a-9d10-f45bb2a7deb6",
   "metadata": {},
   "source": [
    "<div class=\"alert alert-block alert-info\"> <b>NOTE:</b> To take full advantage of geospatial support, please ensure you install the optional <i>geo</i> dependencies. The install command at the top of this notebook already includes these. </div>"
   ]
  },
  {
   "cell_type": "code",
   "execution_count": 3,
   "id": "ea55e131-4b5b-4dba-a623-a457af918eef",
   "metadata": {},
   "outputs": [],
   "source": [
    "from feo.client import Features, Node"
   ]
  },
  {
   "cell_type": "code",
   "execution_count": 4,
   "id": "0bfdeb79-a504-465b-9000-e4e279e7f9c0",
   "metadata": {},
   "outputs": [
    {
     "ename": "HTTPStatusError",
     "evalue": "Server error '500 Internal Server Error' for url 'https://api.feo.transitionzero.org/v1/aliases?alias=Bali&threshold=0.5&node_type=&sector=&page=&limit=&includes=node'\nFor more information check: https://developer.mozilla.org/en-US/docs/Web/HTTP/Status/500",
     "output_type": "error",
     "traceback": [
      "\u001b[0;31m---------------------------------------------------------------------------\u001b[0m",
      "\u001b[0;31mHTTPStatusError\u001b[0m                           Traceback (most recent call last)",
      "\u001b[1;32m/Users/calvinnesbitt/Documents/feo/feo-client-examples/feo-client-examples/4_geometries.ipynb Cell 9\u001b[0m line \u001b[0;36m3\n\u001b[1;32m      <a href='vscode-notebook-cell:/Users/calvinnesbitt/Documents/feo/feo-client-examples/feo-client-examples/4_geometries.ipynb#X11sZmlsZQ%3D%3D?line=0'>1</a>\u001b[0m \u001b[39m# Let's use Bali\u001b[39;00m\n\u001b[1;32m      <a href='vscode-notebook-cell:/Users/calvinnesbitt/Documents/feo/feo-client-examples/feo-client-examples/4_geometries.ipynb#X11sZmlsZQ%3D%3D?line=1'>2</a>\u001b[0m node_name \u001b[39m=\u001b[39m \u001b[39m\"\u001b[39m\u001b[39mBali\u001b[39m\u001b[39m\"\u001b[39m\n\u001b[0;32m----> <a href='vscode-notebook-cell:/Users/calvinnesbitt/Documents/feo/feo-client-examples/feo-client-examples/4_geometries.ipynb#X11sZmlsZQ%3D%3D?line=2'>3</a>\u001b[0m nodes \u001b[39m=\u001b[39m Node\u001b[39m.\u001b[39;49msearch(node_name)\n\u001b[1;32m      <a href='vscode-notebook-cell:/Users/calvinnesbitt/Documents/feo/feo-client-examples/feo-client-examples/4_geometries.ipynb#X11sZmlsZQ%3D%3D?line=3'>4</a>\u001b[0m \u001b[39mtry\u001b[39;00m:\n\u001b[1;32m      <a href='vscode-notebook-cell:/Users/calvinnesbitt/Documents/feo/feo-client-examples/feo-client-examples/4_geometries.ipynb#X11sZmlsZQ%3D%3D?line=4'>5</a>\u001b[0m     bali \u001b[39m=\u001b[39m nodes[\u001b[39m0\u001b[39m]\n",
      "File \u001b[0;32m~/miniconda3/envs/feo-client/lib/python3.11/site-packages/feo/client/node.py:62\u001b[0m, in \u001b[0;36mNode.search\u001b[0;34m(cls, alias, threshold, node_type)\u001b[0m\n\u001b[1;32m     46\u001b[0m \u001b[39m@classmethod\u001b[39m\n\u001b[1;32m     47\u001b[0m \u001b[39mdef\u001b[39;00m \u001b[39msearch\u001b[39m(\n\u001b[1;32m     48\u001b[0m     \u001b[39mcls\u001b[39m, alias: \u001b[39mstr\u001b[39m, threshold: \u001b[39mfloat\u001b[39m \u001b[39m=\u001b[39m \u001b[39m0.5\u001b[39m, node_type: \u001b[39mstr\u001b[39m \u001b[39m|\u001b[39m \u001b[39mNone\u001b[39;00m \u001b[39m=\u001b[39m \u001b[39mNone\u001b[39;00m\n\u001b[1;32m     49\u001b[0m ) \u001b[39m-\u001b[39m\u001b[39m>\u001b[39m \u001b[39mlist\u001b[39m[\u001b[39m\"\u001b[39m\u001b[39mNode\u001b[39m\u001b[39m\"\u001b[39m]:\n\u001b[1;32m     50\u001b[0m \u001b[39m    \u001b[39m\u001b[39m\"\"\"\u001b[39;00m\n\u001b[1;32m     51\u001b[0m \u001b[39m    Search for nodes using an alias.\u001b[39;00m\n\u001b[1;32m     52\u001b[0m \n\u001b[0;32m   (...)\u001b[0m\n\u001b[1;32m     59\u001b[0m \u001b[39m        List[Node]: A list of Node objects.\u001b[39;00m\n\u001b[1;32m     60\u001b[0m \u001b[39m    \"\"\"\u001b[39;00m\n\u001b[0;32m---> 62\u001b[0m     search_results \u001b[39m=\u001b[39m api\u001b[39m.\u001b[39;49maliases\u001b[39m.\u001b[39;49mget(\n\u001b[1;32m     63\u001b[0m         alias\u001b[39m=\u001b[39;49malias, threshold\u001b[39m=\u001b[39;49mthreshold, node_type\u001b[39m=\u001b[39;49mnode_type, includes\u001b[39m=\u001b[39;49m\u001b[39m\"\u001b[39;49m\u001b[39mnode\u001b[39;49m\u001b[39m\"\u001b[39;49m\n\u001b[1;32m     64\u001b[0m     )\n\u001b[1;32m     66\u001b[0m     \u001b[39mreturn\u001b[39;00m [\n\u001b[1;32m     67\u001b[0m         \u001b[39mcls\u001b[39m(\u001b[39m*\u001b[39m\u001b[39m*\u001b[39malias\u001b[39m.\u001b[39mnode\u001b[39m.\u001b[39mmodel_dump())  \u001b[39m# type: ignore[union-attr]\u001b[39;00m\n\u001b[1;32m     68\u001b[0m         \u001b[39mfor\u001b[39;00m alias \u001b[39min\u001b[39;00m search_results\u001b[39m.\u001b[39maliases\n\u001b[1;32m     69\u001b[0m     ]\n",
      "File \u001b[0;32m~/miniconda3/envs/feo-client/lib/python3.11/site-packages/feo/client/api/aliases.py:29\u001b[0m, in \u001b[0;36mAliasAPI.get\u001b[0;34m(self, alias, threshold, node_type, sector, limit, page, includes)\u001b[0m\n\u001b[1;32m     18\u001b[0m params \u001b[39m=\u001b[39m \u001b[39mdict\u001b[39m(\n\u001b[1;32m     19\u001b[0m     alias\u001b[39m=\u001b[39malias,\n\u001b[1;32m     20\u001b[0m     threshold\u001b[39m=\u001b[39mthreshold,\n\u001b[0;32m   (...)\u001b[0m\n\u001b[1;32m     25\u001b[0m     includes\u001b[39m=\u001b[39mincludes,\n\u001b[1;32m     26\u001b[0m )\n\u001b[1;32m     28\u001b[0m resp \u001b[39m=\u001b[39m \u001b[39mself\u001b[39m\u001b[39m.\u001b[39mclient\u001b[39m.\u001b[39mget(\u001b[39m\"\u001b[39m\u001b[39m/aliases\u001b[39m\u001b[39m\"\u001b[39m, params\u001b[39m=\u001b[39mparams)\n\u001b[0;32m---> 29\u001b[0m resp\u001b[39m.\u001b[39;49mraise_for_status()\n\u001b[1;32m     31\u001b[0m \u001b[39mreturn\u001b[39;00m AliasResponse(\u001b[39m*\u001b[39m\u001b[39m*\u001b[39mresp\u001b[39m.\u001b[39mjson())\n",
      "File \u001b[0;32m~/miniconda3/envs/feo-client/lib/python3.11/site-packages/httpx/_models.py:758\u001b[0m, in \u001b[0;36mResponse.raise_for_status\u001b[0;34m(self)\u001b[0m\n\u001b[1;32m    756\u001b[0m error_type \u001b[39m=\u001b[39m error_types\u001b[39m.\u001b[39mget(status_class, \u001b[39m\"\u001b[39m\u001b[39mInvalid status code\u001b[39m\u001b[39m\"\u001b[39m)\n\u001b[1;32m    757\u001b[0m message \u001b[39m=\u001b[39m message\u001b[39m.\u001b[39mformat(\u001b[39mself\u001b[39m, error_type\u001b[39m=\u001b[39merror_type)\n\u001b[0;32m--> 758\u001b[0m \u001b[39mraise\u001b[39;00m HTTPStatusError(message, request\u001b[39m=\u001b[39mrequest, response\u001b[39m=\u001b[39m\u001b[39mself\u001b[39m)\n",
      "\u001b[0;31mHTTPStatusError\u001b[0m: Server error '500 Internal Server Error' for url 'https://api.feo.transitionzero.org/v1/aliases?alias=Bali&threshold=0.5&node_type=&sector=&page=&limit=&includes=node'\nFor more information check: https://developer.mozilla.org/en-US/docs/Web/HTTP/Status/500"
     ]
    }
   ],
   "source": [
    "# Let's use Bali\n",
    "node_name = \"Bali\"\n",
    "nodes = Node.search(node_name)\n",
    "try:\n",
    "    bali = nodes[0]\n",
    "    print(bali)\n",
    "except IndexError:\n",
    "    raise IndexError(f\"No nodes found for {node_name}\")"
   ]
  },
  {
   "cell_type": "markdown",
   "id": "1c99cb1b-862b-4aff-9879-b09db43c843e",
   "metadata": {},
   "source": [
    "For a more detailed exploration of Nodes see the [Nodes](0_nodes.ipynb) notebook."
   ]
  },
  {
   "cell_type": "code",
   "execution_count": null,
   "id": "07f8113a-63b1-456a-a341-ab9439f88564",
   "metadata": {},
   "outputs": [],
   "source": [
    "# Access the node's geometry\n",
    "bali_geom = bali.geometry"
   ]
  },
  {
   "cell_type": "code",
   "execution_count": null,
   "id": "bcde0fe0-1c3b-4d03-bc08-e75855ffa054",
   "metadata": {},
   "outputs": [],
   "source": [
    "type(bali_geom)"
   ]
  },
  {
   "cell_type": "markdown",
   "id": "7f43db2c-ecaf-4284-b1c0-716d14aeb392",
   "metadata": {},
   "source": [
    "The `geometry` property is a `Geometry` class. This class exposes the geometry type and its (longitude, latitude) coordinates as properties."
   ]
  },
  {
   "cell_type": "code",
   "execution_count": null,
   "id": "24af1d1c-b951-49e3-a380-5b6e1a40ebce",
   "metadata": {},
   "outputs": [],
   "source": [
    "# The Bali geometry is a MultiPolygon; it comprises multiply polygon geometries\n",
    "bali_geom.type"
   ]
  },
  {
   "cell_type": "code",
   "execution_count": null,
   "id": "efce5c86-cd2a-4e38-af8f-5acb4cfcaf9b",
   "metadata": {},
   "outputs": [],
   "source": [
    "# The coordinates list is a nested list of coordinate pairs that define the geometry\n",
    "bali_geom.coordinates[0]"
   ]
  },
  {
   "cell_type": "markdown",
   "id": "361496ce-0bbf-4456-a200-72b5eb4c1a03",
   "metadata": {},
   "source": [
    "The `Geometry` class proivides convenience methods for downstream purposes; you can convert it to a dictionary, [GeoJSON](https://geojson.org/) or shapely [geometry](https://shapely.readthedocs.io/en/stable/geometry.html) representation."
   ]
  },
  {
   "cell_type": "code",
   "execution_count": null,
   "id": "80002d5f-8bb3-441d-90f9-5810c1799097",
   "metadata": {},
   "outputs": [],
   "source": [
    "# E.g. convert to GeoJSON string\n",
    "print(bali_geom.to_geojson()[:100], \"...}\")  # sliced to limit output"
   ]
  },
  {
   "cell_type": "markdown",
   "id": "1f26d889-cb5c-47d7-938d-199888651b21",
   "metadata": {},
   "source": [
    "A shapely geometry provides access to some core geospatial operations and, in notebooks, can be rendered as an image."
   ]
  },
  {
   "cell_type": "code",
   "execution_count": null,
   "id": "32ae3ae2-9a83-4dca-a743-d7d12c83559e",
   "metadata": {},
   "outputs": [],
   "source": [
    "# Create shapely geometry\n",
    "bali_geom_shply = bali_geom.to_shape()\n",
    "centroid = bali_geom_shply.centroid\n",
    "print(\n",
    "    \"Bali centroid:\", f\"\\tLON: {centroid.x:0.6f}\", f\"\\tLAT: {centroid.y:0.6f}\", sep=\"\\n\"\n",
    ")"
   ]
  },
  {
   "cell_type": "code",
   "execution_count": null,
   "id": "d27a9345-724c-46cd-9d07-788623c0ed65",
   "metadata": {},
   "outputs": [],
   "source": [
    "bali_geom_shply"
   ]
  },
  {
   "cell_type": "markdown",
   "id": "ea055d8b-1a94-4d13-8a8c-269d5e756def",
   "metadata": {},
   "source": [
    "### Search for other vector data\n",
    "FEO provides access to a range of supplimentary geospatial datasets. In this example we search for [Protected Areas](https://www.protectedplanet.net/en/thematic-areas/wdpa) within Bali. The FEO catalogue will continue to grow!"
   ]
  },
  {
   "cell_type": "code",
   "execution_count": null,
   "id": "25f64389-4d1a-4cac-bef6-4d5312598b2b",
   "metadata": {},
   "outputs": [],
   "source": [
    "# Search for Protected Areas\n",
    "pa_feats = Features.search(collection_id=\"biodiversity-wdpa\", geometry=bali_geom)"
   ]
  },
  {
   "cell_type": "markdown",
   "id": "ad7d1fb5-632d-4722-ba0d-570527af0ccb",
   "metadata": {},
   "source": [
    "`pa_feats` is a `Features` objects; a collection of features, each with properties and a geometry"
   ]
  },
  {
   "cell_type": "code",
   "execution_count": null,
   "id": "d5c9e3ca-82f7-4faa-9aaf-0b6760d68edd",
   "metadata": {},
   "outputs": [],
   "source": [
    "# How many protected areas were returned?\n",
    "len(pa_feats.features)"
   ]
  },
  {
   "cell_type": "code",
   "execution_count": null,
   "id": "9c7b9c69-4904-49bb-aebd-60587342e15c",
   "metadata": {},
   "outputs": [],
   "source": [
    "# Examine a feature\n",
    "ft = pa_feats.features[0]\n",
    "ft.properties"
   ]
  },
  {
   "cell_type": "code",
   "execution_count": null,
   "id": "64968c08-6e14-4e32-b73d-31eaf6441f9b",
   "metadata": {},
   "outputs": [],
   "source": [
    "# Render its geometry\n",
    "ft.geometry.to_shape()"
   ]
  },
  {
   "cell_type": "markdown",
   "id": "e5a1a0a0-e508-4de7-ba9e-9b1640208a57",
   "metadata": {},
   "source": [
    "If you have the `geo` dependencies installed you can convert the `Features` object to a `GeoDataFrame`"
   ]
  },
  {
   "cell_type": "code",
   "execution_count": null,
   "id": "d76d330e-04e2-4b01-8a94-a2f427f276b9",
   "metadata": {},
   "outputs": [],
   "source": [
    "gdf = pa_feats.to_geodataframe()\n",
    "gdf"
   ]
  },
  {
   "cell_type": "markdown",
   "id": "8d3cb43d-a167-45ce-b4b8-4a81c4f54e3d",
   "metadata": {},
   "source": [
    "### Visualise the data\n",
    "`Features` and `Geometry` objects both have GeoJSON representations, allowing for easy interoperability with other geospatial tools. In this example, we use `folium` to plot an interactive map of Bali and its protected areas."
   ]
  },
  {
   "cell_type": "code",
   "execution_count": null,
   "id": "ffcab22e-1f39-4067-8729-dd022a45e686",
   "metadata": {},
   "outputs": [],
   "source": [
    "%pip install folium"
   ]
  },
  {
   "cell_type": "code",
   "execution_count": null,
   "id": "41fc1dc4-a293-40eb-9405-c7c36fdd817f",
   "metadata": {},
   "outputs": [],
   "source": [
    "import folium\n",
    "from folium.features import GeoJson"
   ]
  },
  {
   "cell_type": "code",
   "execution_count": null,
   "id": "e70ee00e-37e2-4750-9f42-de33b7e109ca",
   "metadata": {},
   "outputs": [],
   "source": [
    "# Define the layer styles\n",
    "bali_style = {\"fillColor\": \"#f2ff00\", \"color\": \"#f2ff00\"}\n",
    "pa_style = {\"fillColor\": \"#000000\", \"color\": \"#000000\"}"
   ]
  },
  {
   "cell_type": "code",
   "execution_count": null,
   "id": "0612822d-2036-4d0c-b0d1-1caa01a783b0",
   "metadata": {},
   "outputs": [],
   "source": [
    "bali_geom_shply = (\n",
    "    bali_geom.to_shape()\n",
    ")  # convert our Geometry object to a shapely object\n",
    "map_center = bali_geom_shply.centroid  # access the centroid using the shape property\n",
    "\n",
    "# Configure the map\n",
    "map = folium.Map(location=(map_center.y, map_center.x), zoom_start=10)\n",
    "\n",
    "# Add vector data to the map via the GeoJSON interface\n",
    "map.add_child(\n",
    "    GeoJson(bali_geom.to_geojson(), name=\"Bali\", style_function=lambda x: bali_style)\n",
    ")\n",
    "map.add_child(\n",
    "    GeoJson(\n",
    "        pa_feats.to_geojson(),\n",
    "        name=\"World Database on Protected Areas\",\n",
    "        style_function=lambda x: pa_style,\n",
    "        popup=folium.GeoJsonPopup(fields=[\"name\", \"designation\"]),\n",
    "    )\n",
    ")\n",
    "folium.LayerControl().add_to(map)\n",
    "map"
   ]
  },
  {
   "cell_type": "code",
   "execution_count": null,
   "id": "37ae9753-0d42-4241-8836-70d46862b7a7",
   "metadata": {},
   "outputs": [],
   "source": []
  }
 ],
 "metadata": {
  "kernelspec": {
   "display_name": "python3",
   "language": "python",
   "name": "python3"
  },
  "language_info": {
   "codemirror_mode": {
    "name": "ipython",
    "version": 3
   },
   "file_extension": ".py",
   "mimetype": "text/x-python",
   "name": "python",
   "nbconvert_exporter": "python",
   "pygments_lexer": "ipython3",
   "version": "3.11.5"
  }
 },
 "nbformat": 4,
 "nbformat_minor": 5
}
