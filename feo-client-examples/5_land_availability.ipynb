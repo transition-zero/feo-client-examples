{
 "cells": [
  {
   "cell_type": "markdown",
   "id": "0d7e3386-47a0-4010-861d-8af73abb94c2",
   "metadata": {},
   "source": [
    "_To use this notebook you must have a (free) FEO account, available [here](https://feo.transitionzero.org/). You may then install the feo-client library, if necessary, and then use the package to log in. You can also run notebook in a Colab notebook via the badge below._"
   ]
  },
  {
   "cell_type": "markdown",
   "id": "a693f8d0-3be8-4738-936c-bd03b725ef83",
   "metadata": {},
   "source": [
    "<a target=\"_blank\" href=\"https://colab.research.google.com/github/transition-zero/feo-client-examples/blob/main/feo-client-examples/1_assets.ipynb\">\n",
    "  <img src=\"https://colab.research.google.com/assets/colab-badge.svg\" alt=\"Open In Colab\"/>\n",
    "</a>"
   ]
  },
  {
   "cell_type": "code",
   "execution_count": null,
   "id": "00994af4-8000-452a-957e-a1ef5a173db5",
   "metadata": {},
   "outputs": [],
   "source": [
    "!pip install --extra-index-url https://test.pypi.org/simple/ feo-client==0.0.1a7"
   ]
  },
  {
   "cell_type": "code",
   "execution_count": null,
   "metadata": {},
   "outputs": [],
   "source": [
    "%env AUTH0_DOMAIN=dev-feo-tz.eu.auth0.com\n",
    "%env FEO_API_URL=http://127.0.0.1:8080\n",
    "%env AUTH0_AUDIENCE=https://staging.api.feo.transitionzero.org\n",
    "%env AUTH0_CLIENT_ID=bjzlyhLEClss31537pW3lu3Fkg97TzZ8"
   ]
  },
  {
   "cell_type": "code",
   "execution_count": null,
   "id": "751b4391-c15b-4cd3-bb27-730a13393b62",
   "metadata": {},
   "outputs": [],
   "source": [
    "from feo.client.auth import login\n",
    "\n",
    "login()"
   ]
  },
  {
   "cell_type": "markdown",
   "id": "6b6d9851-3eff-4356-b47e-b97222f2c1be",
   "metadata": {},
   "source": [
    "# Renewable Potentials\n",
    "_Object-oriented interface for Renewable Potentials via the Python client_"
   ]
  },
  {
   "cell_type": "markdown",
   "metadata": {},
   "source": [
    "## Land Availability for Renewable Energy"
   ]
  },
  {
   "cell_type": "markdown",
   "metadata": {},
   "source": [
    "The amount of land available to build renewables is a key constraint on the energy transition and hence a key input to energy system models. Understanding where and how much of a given technology can be built, constrains how renewable capacity can be deployed and has downstream effects on the cost and emissions of the energy system. If we want to understand the energy transition, getting land availability right matters!\n",
    "\n",
    "To highlight this, let's do a back of the envelope calculation to see how land availability impact how much solar PV we can be deployed in the UK. We'll consider two scenarios. In the first scenario, 1% of land in the UK is available for solar PV. In the second, only 0.05% is available."
   ]
  },
  {
   "cell_type": "code",
   "execution_count": null,
   "metadata": {},
   "outputs": [],
   "source": [
    "# Assumptions\n",
    "uk_land_area = 242495 # km2\n",
    "scenario_1_percent = 0.01\n",
    "scenario_2_percent = 0.005\n",
    "solar_pv_density = 141 # MW/km2\n",
    "\n",
    "# Compute UK solar PV capacity in MW\n",
    "uk_solar_pv_capacity_scenario_1 = (uk_land_area * solar_pv_density * scenario_1_percent) \n",
    "uk_solar_pv_capacity_scenario_2 = (uk_land_area * solar_pv_density * scenario_2_percent) \n",
    "capacity_difference = uk_solar_pv_capacity_scenario_1 - uk_solar_pv_capacity_scenario_2\n",
    "\n",
    "# Print results\n",
    "print(f'UK solar PV capacity scenario 1: {uk_solar_pv_capacity_scenario_1/ 1000:.2f} GW')\n",
    "print(f'UK solar PV capacity scenario 2: {uk_solar_pv_capacity_scenario_2/ 1000:.2f} GW')\n",
    "print(f'Capacity difference: {capacity_difference/1000:.2f} GW')"
   ]
  },
  {
   "cell_type": "markdown",
   "metadata": {},
   "source": [
    "We see a difference of 170 GW of solar PV capacity between the two scenarios! To put this in context, IRENA estimates that the UK currently has 14.4 GW of solar PV capacity. So, the difference between these two scenarios is equivalent to over 12 times the current solar PV capacity of the UK. This is a huge difference and highlights the importance of getting land availability right."
   ]
  },
  {
   "cell_type": "markdown",
   "metadata": {},
   "source": [
    "## Land Availability Data in FEO"
   ]
  },
  {
   "cell_type": "markdown",
   "metadata": {},
   "source": [
    "In FEO we currently provide pre-computed land availability data for onshore wind and solar PV development. This data is available at the node level and by land type, that is, for each node we provide the amount of land available for onshore wind and solar PV development for each land type. The land types we currently provide are cropland, forest, bare, and urban. "
   ]
  },
  {
   "cell_type": "markdown",
   "metadata": {},
   "source": [
    "First let's import the LandAvailability client"
   ]
  },
  {
   "cell_type": "code",
   "execution_count": null,
   "metadata": {},
   "outputs": [],
   "source": [
    "from feo.client import LandAvailability"
   ]
  },
  {
   "cell_type": "markdown",
   "metadata": {},
   "source": [
    "Land availability data can be searched for by node"
   ]
  },
  {
   "cell_type": "code",
   "execution_count": null,
   "metadata": {},
   "outputs": [],
   "source": [
    "search_results = LandAvailability.search('IDN')\n",
    "for land_availability in search_results:\n",
    "    print(land_availability.land_type, land_availability.value)"
   ]
  },
  {
   "cell_type": "markdown",
   "metadata": {},
   "source": [
    "## How is land eligibility calculated in FEO?"
   ]
  },
  {
   "cell_type": "markdown",
   "metadata": {},
   "source": [
    "Typically assesments of land availability are based on a combination of social, political, physical and technical constraints. Computations are often done using GIS tools and a mixture of geospatial data sources that describe landcover, protected areas, topography, transport infrastucture, political boundaries etc. "
   ]
  },
  {
   "cell_type": "markdown",
   "metadata": {},
   "source": [
    "TODO: \n",
    "- Explain land use classes, COPERNICUS\n",
    "- Explain WDPA"
   ]
  },
  {
   "cell_type": "markdown",
   "metadata": {},
   "source": [
    "## How much renewables can we build?"
   ]
  },
  {
   "cell_type": "markdown",
   "metadata": {},
   "source": [
    "TODO:\n",
    "- Explain MW/km-2\n",
    "- Explain that only certain land use classes are suitable for renewables"
   ]
  },
  {
   "cell_type": "code",
   "execution_count": null,
   "metadata": {},
   "outputs": [],
   "source": [
    "# Fetch tech params"
   ]
  },
  {
   "cell_type": "code",
   "execution_count": null,
   "metadata": {},
   "outputs": [],
   "source": [
    "# Do scalar sum with user provided %s"
   ]
  },
  {
   "cell_type": "markdown",
   "metadata": {},
   "source": [
    "## Future Features\n",
    "\n",
    "Currently FEO is in it's beta phase and we are working on adding new features. In the future we will add the following features:"
   ]
  },
  {
   "cell_type": "markdown",
   "metadata": {},
   "source": [
    "## References\n",
    "\n",
    "- [Cox et al., 2018] Cox, Sarah L., Anthony J. Lopez, Andrea C. Watson, Nicholas W. Grue, and Jennifer E. Leisch. Renewable energy data, analysis, and decisions: a guide for practitioners. No. NREL/TP-6A20-68913. National Renewable Energy Lab.(NREL), Golden, CO (United States), 2018."
   ]
  },
  {
   "cell_type": "markdown",
   "metadata": {},
   "source": []
  }
 ],
 "metadata": {
  "kernelspec": {
   "display_name": "feo-client",
   "language": "python",
   "name": "python3"
  },
  "language_info": {
   "codemirror_mode": {
    "name": "ipython",
    "version": 3
   },
   "file_extension": ".py",
   "mimetype": "text/x-python",
   "name": "python",
   "nbconvert_exporter": "python",
   "pygments_lexer": "ipython3",
   "version": "3.11.5"
  }
 },
 "nbformat": 4,
 "nbformat_minor": 5
}
