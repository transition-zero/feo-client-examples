{
    "cells": [
        {
            "cell_type": "markdown",
            "id": "0d7e3386-47a0-4010-861d-8af73abb94c2",
            "metadata": {},
            "source": [
                "_To use this notebook you must have a (free) FEO account, available [here](https://feo.transitionzero.org/). You may then install the feo-client library, if necessary, and then use the package to log in. You can also run notebook in a Colab notebook via the badge below._"
            ]
        },
        {
            "cell_type": "markdown",
            "id": "a693f8d0-3be8-4738-936c-bd03b725ef83",
            "metadata": {},
            "source": [
                "<a target=\"_blank\" href=\"https://colab.research.google.com/github/transition-zero/feo-client-examples/blob/main/feo-client-examples/1_assets.ipynb\">\n",
                "  <img src=\"https://colab.research.google.com/assets/colab-badge.svg\" alt=\"Open In Colab\"/>\n",
                "</a>"
            ]
        },
        {
            "cell_type": "code",
            "execution_count": null,
            "id": "00994af4-8000-452a-957e-a1ef5a173db5",
            "metadata": {},
            "outputs": [],
            "source": [
                "!pip install --extra-index-url https://test.pypi.org/simple/ feo-client==0.0.1a9"
            ]
        },
        {
            "cell_type": "code",
            "execution_count": null,
            "id": "751b4391-c15b-4cd3-bb27-730a13393b62",
            "metadata": {
                "tags": [
                    "skip-execution"
                ]
            },
            "outputs": [],
            "source": [
                "from feo.client.auth import login\n",
                "\n",
                "login()"
            ]
        },
        {
            "cell_type": "markdown",
            "id": "6b6d9851-3eff-4356-b47e-b97222f2c1be",
            "metadata": {},
            "source": [
                "# Land Cover Data\n",
                "_Object-oriented interface for Land Cover Data via the Python client_"
            ]
        },
        {
            "cell_type": "markdown",
            "metadata": {},
            "source": [
                "## Land Availability for Renewable Energy"
            ]
        },
        {
            "cell_type": "markdown",
            "metadata": {},
            "source": [
                "The amount of land available to build renewables is a key constraint on the energy transition and hence a key input to energy system models. Understanding where and how much of a given technology can be built, constrains how renewable capacity can be deployed and has downstream effects on the cost and emissions of the energy system. If we want to understand the energy transition, getting land availability right matters!\n",
                "\n",
                "To highlight this, let's do a back of the envelope calculation to see how land availability impacts how much solar PV we can be deployed in the UK. We'll consider two scenarios. In the first scenario, 1% of land in the UK is available for solar PV. In the second, only 0.05% is available."
            ]
        },
        {
            "cell_type": "code",
            "execution_count": null,
            "metadata": {},
            "outputs": [],
            "source": [
                "# Assumptions\n",
                "uk_land_area = 242495 # km2\n",
                "scenario_1_percent = 0.01\n",
                "scenario_2_percent = 0.005\n",
                "solar_pv_density = 141 # MW/km2\n",
                "\n",
                "# Compute UK solar PV capacity in MW\n",
                "uk_solar_pv_capacity_scenario_1 = (uk_land_area * solar_pv_density * scenario_1_percent) \n",
                "uk_solar_pv_capacity_scenario_2 = (uk_land_area * solar_pv_density * scenario_2_percent) \n",
                "capacity_difference = uk_solar_pv_capacity_scenario_1 - uk_solar_pv_capacity_scenario_2\n",
                "\n",
                "# Print results\n",
                "print(f'UK solar PV capacity scenario 1: {uk_solar_pv_capacity_scenario_1/ 1000:.2f} GW')\n",
                "print(f'UK solar PV capacity scenario 2: {uk_solar_pv_capacity_scenario_2/ 1000:.2f} GW')\n",
                "print(f'Capacity difference: {capacity_difference/1000:.2f} GW')"
            ]
        },
        {
            "cell_type": "markdown",
            "metadata": {},
            "source": [
                "We see a difference of 170 GW of solar PV capacity between the two scenarios! \n",
                "\n",
                "To put this in context, IRENA estimates that the UK currently has 14.4 GW of solar PV capacity. So, the difference between these two scenarios is equivalent to over 12 times the current solar PV capacity of the UK. This is a huge difference and highlights the importance of getting land availability right."
            ]
        },
        {
            "cell_type": "markdown",
            "metadata": {},
            "source": [
                "## Land Cover Data in FEO\n",
                "\n",
                "A key input to land availability calculations is land cover data. Land cover data tells us what type of land is present in a given location. \n",
                "\n",
                "In FEO, we have aggregated land cover data into $5$ land type categories:\n",
                "\n",
                "- `urban`: Urban areas\n",
                "- `cropland`: Agricultural land\n",
                "- `forest`: Forested land\n",
                "- `bare`: Bare land\n",
                "- `shrub`: Shrub land\n",
                "\n",
                "The area of each land type category can be accessed with the `RecordCollection` client at the node level."
            ]
        },
        {
            "cell_type": "code",
            "execution_count": null,
            "metadata": {},
            "outputs": [],
            "source": [
                "from feo.client import RecordCollection\n",
                "\n",
                "forest_landuse = RecordCollection.search(node_id='IDN', datum_type='land_cover', datum_detail='forest')\n",
                "forest_landuse"
            ]
        },
        {
            "cell_type": "markdown",
            "metadata": {},
            "source": [
                "One is also able to access the amount of protected area by land type and node."
            ]
        },
        {
            "cell_type": "code",
            "execution_count": null,
            "metadata": {},
            "outputs": [],
            "source": [
                "protected_forest_landuse = RecordCollection.search(node_id='IDN', datum_type='land_cover', datum_detail='protected_forest')\n",
                "protected_forest_landuse"
            ]
        },
        {
            "cell_type": "markdown",
            "metadata": {},
            "source": [
                "## Renewable Potentials\n"
            ]
        },
        {
            "cell_type": "markdown",
            "metadata": {},
            "source": [
                "\n",
                "This land cover data can be used for early-stage mapping of land availability for renewables. This in turn can be used to estimate the renewable potential for for a given node."
            ]
        },
        {
            "cell_type": "markdown",
            "metadata": {},
            "source": [
                "TODO:\n",
                "- Explain MW/km-2\n",
                "- Explain that only certain land use classes are suitable for renewables\n",
                "- Do scalar sum"
            ]
        },
        {
            "cell_type": "code",
            "execution_count": null,
            "metadata": {},
            "outputs": [],
            "source": [
                "# Fetch tech params"
            ]
        },
        {
            "cell_type": "code",
            "execution_count": null,
            "metadata": {},
            "outputs": [],
            "source": [
                "# Do scalar sum with user provided %s"
            ]
        },
        {
            "cell_type": "markdown",
            "metadata": {},
            "source": [
                "## Future Features\n",
                "\n",
                "Currently FEO is in it's beta phase and we are working on adding new features. In the future we will add the following features:"
            ]
        },
        {
            "cell_type": "markdown",
            "metadata": {},
            "source": [
                "## References\n",
                "\n",
                "- [Cox et al., 2018] Cox, Sarah L., Anthony J. Lopez, Andrea C. Watson, Nicholas W. Grue, and Jennifer E. Leisch. Renewable energy data, analysis, and decisions: a guide for practitioners. No. NREL/TP-6A20-68913. National Renewable Energy Lab.(NREL), Golden, CO (United States), 2018."
            ]
        }
    ],
    "metadata": {
        "kernelspec": {
            "display_name": "python3",
            "language": "python",
            "name": "python3"
        },
        "language_info": {
            "codemirror_mode": {
                "name": "ipython",
                "version": 3
            },
            "file_extension": ".py",
            "mimetype": "text/x-python",
            "name": "python",
            "nbconvert_exporter": "python",
            "pygments_lexer": "ipython3",
            "version": "3.11.5"
        }
    },
    "nbformat": 4,
    "nbformat_minor": 5
}
