{
 "cells": [
  {
   "cell_type": "markdown",
   "id": "0d7e3386-47a0-4010-861d-8af73abb94c2",
   "metadata": {},
   "source": [
    "_To use this notebook you must have a (free) FEO account, available [here](https://feo.transitionzero.org/). You may then install the feo-client library, if necessary, and then use the package to log in. You can also run notebook in a Colab notebook via the badge below._"
   ]
  },
  {
   "cell_type": "markdown",
   "id": "a693f8d0-3be8-4738-936c-bd03b725ef83",
   "metadata": {},
   "source": [
    "<a target=\"_blank\" href=\"https://colab.research.google.com/github/transition-zero/feo-client-examples/blob/main/feo-client-examples/5_land_cover.ipynb\">\n",
    "  <img src=\"https://colab.research.google.com/assets/colab-badge.svg\" alt=\"Open In Colab\"/>\n",
    "</a>"
   ]
  },
  {
   "cell_type": "code",
   "execution_count": null,
   "id": "00994af4-8000-452a-957e-a1ef5a173db5",
   "metadata": {},
   "outputs": [],
   "source": [
    "!pip install feo-client"
   ]
  },
  {
   "cell_type": "code",
   "execution_count": null,
   "id": "751b4391-c15b-4cd3-bb27-730a13393b62",
   "metadata": {
    "tags": [
     "skip-execution"
    ]
   },
   "outputs": [],
   "source": [
    "from feo.client.auth import login\n",
    "\n",
    "login()"
   ]
  },
  {
   "cell_type": "markdown",
   "id": "6b6d9851-3eff-4356-b47e-b97222f2c1be",
   "metadata": {},
   "source": [
    "# Land Cover Data\n",
    "_Object-oriented interface for Land Cover Data via the Python client_"
   ]
  },
  {
   "cell_type": "markdown",
   "metadata": {},
   "source": [
    "## Land Availability for Renewable Energy"
   ]
  },
  {
   "cell_type": "markdown",
   "metadata": {},
   "source": [
    "The amount of land available to build renewables is a key constraint on the energy transition and hence a key input to energy system models. Understanding where and how much of a given technology can be built, constrains how renewable capacity can be deployed and has downstream effects on the cost and emissions of the energy system. If we want to understand the energy transition, getting land availability right matters!\n",
    "\n",
    "To highlight this, let's do a back of the envelope calculation to see how land availability impacts how much solar PV we can be deployed in the Indonesian province Jawa Tengah. We'll consider two scenarios. In the first scenario, 1% of land in Jawa Tengah is available for solar PV. In the second, only 0.05% is available."
   ]
  },
  {
   "cell_type": "code",
   "execution_count": null,
   "metadata": {},
   "outputs": [],
   "source": [
    "# Assumptions\n",
    "IDN_JT_land_area = 34290  # km2\n",
    "scenario_1_percent = 0.01\n",
    "scenario_2_percent = 0.007\n",
    "solar_pv_density = 141  # MW/km2\n",
    "\n",
    "# Compute IDN JT solar PV capacity in MW\n",
    "idn_jt_solar_pv_capacity_scenario_1 = (\n",
    "    IDN_JT_land_area * solar_pv_density * scenario_1_percent\n",
    ")\n",
    "idn_jt_solar_pv_capacity_scenario_2 = (\n",
    "    IDN_JT_land_area * solar_pv_density * scenario_2_percent\n",
    ")\n",
    "capacity_difference = abs(\n",
    "    idn_jt_solar_pv_capacity_scenario_1 - idn_jt_solar_pv_capacity_scenario_2\n",
    ")\n",
    "\n",
    "# Print results\n",
    "print(\n",
    "    f\"Jawa Tengah solar PV capacity scenario 1: {idn_jt_solar_pv_capacity_scenario_1/ 1000:.2f} GW\"\n",
    ")\n",
    "print(\n",
    "    f\"Jawa Tengah solar PV capacity scenario 2: {idn_jt_solar_pv_capacity_scenario_2/ 1000:.2f} GW\"\n",
    ")\n",
    "print(f\"Capacity difference: {capacity_difference/1000:.2f} GW\")"
   ]
  },
  {
   "cell_type": "markdown",
   "metadata": {},
   "source": [
    "We see a difference of 14.50 GW of solar PV capacity between the two scenarios! \n",
    "\n",
    "To put this in context, IRENA estimates that the UK currently has 14.4 GW of solar PV capacity. So, the difference between these two scenarios is roughly the current solar PV capacity of the UK. This is a huge difference and highlights the importance of getting land availability right."
   ]
  },
  {
   "cell_type": "markdown",
   "metadata": {},
   "source": [
    "## Land Cover Data in FEO\n",
    "\n",
    "A key input to land availability calculations is land cover data. Land cover data tells us what type of land is present in a given location. \n",
    "\n",
    "In FEO, we have aggregated land cover data into $5$ land type categories:\n",
    "\n",
    "- `urban`: Urban areas\n",
    "- `cropland`: Agricultural land\n",
    "- `forest`: Forested land\n",
    "- `bare`: Bare land\n",
    "- `shrub`: Shrub land + Herbaceous land\n",
    "\n",
    "These land categories are derived from Coperniucs Global Land Cover classes\n",
    "\n",
    "The area of each land type category can be accessed with the `RecordCollection` client at the node level."
   ]
  },
  {
   "cell_type": "code",
   "execution_count": null,
   "metadata": {},
   "outputs": [],
   "source": [
    "from feo.client import RecordCollection\n",
    "\n",
    "forest_area = RecordCollection.search(node_id=\"IDN-JT\", datum_detail=\"forest_landuse\")\n",
    "forest_area"
   ]
  },
  {
   "cell_type": "markdown",
   "metadata": {},
   "source": [
    "The client returns a pandas dataframe and the area can be found in the `value` column. Looking at the `unit` column we see it is given in $km^2$.\n",
    "\n",
    "Let's compare how much crop land there is in Jawa Tengah compared to forest.."
   ]
  },
  {
   "cell_type": "code",
   "execution_count": null,
   "metadata": {},
   "outputs": [],
   "source": [
    "RecordCollection.search(node_id=\"IDN-JT\", datum_detail=\"crop_landuse\")"
   ]
  },
  {
   "cell_type": "code",
   "execution_count": null,
   "metadata": {},
   "outputs": [],
   "source": [
    "IDN_JT_forest = forest_area[\"value\"].item()\n",
    "IDN_JT_crop = RecordCollection.search(node_id=\"IDN-JT\", datum_detail=\"crop_landuse\")[\n",
    "    \"value\"\n",
    "].item()\n",
    "\n",
    "print(f\"Jawa Tengah forest area: {IDN_JT_forest:.2f} km2\")\n",
    "print(f\"Jawa Tengah cropland area: {IDN_JT_crop:.2f} km2\")"
   ]
  },
  {
   "cell_type": "markdown",
   "metadata": {},
   "source": [
    ".. and how much forest there is in Jawa Tengah, compared to a neighboring province, Jawa Barat."
   ]
  },
  {
   "cell_type": "code",
   "execution_count": null,
   "metadata": {},
   "outputs": [],
   "source": [
    "IDN_JB_forest = RecordCollection.search(\n",
    "    node_id=\"IDN-JB\", datum_detail=\"forest_landuse\"\n",
    ")[\"value\"].item()\n",
    "\n",
    "print(f\"Jawa Tengah forest area: {IDN_JT_forest:.2f} km2\")\n",
    "print(f\"Jawa Barat forest area: {IDN_JB_forest:.2f} km2\")"
   ]
  },
  {
   "cell_type": "markdown",
   "metadata": {},
   "source": [
    "## Renewable Potentials\n"
   ]
  },
  {
   "cell_type": "markdown",
   "metadata": {},
   "source": [
    "This land cover data can be used for early-stage mapping of land availability for renewables and to gain a rough estimate of renewable energy potentials at a given node. A key assumption for this estimation is the percentage of a given land type that we want to make available for a given technology. This should be informed by the land use priorities of the region, renewable resource information (how windy/sunny is the region?) and the land use requirements of the technology.\n",
    "\n",
    "For example, let's estimate how changing our forest land use policy impacts how much solar PV capacity could be deployed in currently forested areas of Jawa Tengah. "
   ]
  },
  {
   "cell_type": "code",
   "execution_count": null,
   "metadata": {},
   "outputs": [],
   "source": [
    "# Assumptions\n",
    "\n",
    "solar_pv_density = 141  # MW/km2\n",
    "less_deforestation_percentage = 0.01  # 1% of forest landuse is used for solar PV\n",
    "more_deforestation_percentage = 0.05  # 5% of forest landuse is used for solar PV\n",
    "\n",
    "IDN_JT_forest_pv_capacity_1 = (\n",
    "    forest_area[\"value\"].item() * solar_pv_density * less_deforestation_percentage\n",
    ")\n",
    "IDN_JT_forest_pv_capacity_2 = (\n",
    "    forest_area[\"value\"].item() * solar_pv_density * more_deforestation_percentage\n",
    ")\n",
    "print(\n",
    "    f\"If {less_deforestation_percentage*100}% of forest is used for solar PV in Jawa Tengah, then we can install {IDN_JT_forest_pv_capacity_1/1000:.2f} GW of solar PV in currently forested areas of Jawa Tengah.\"\n",
    ")\n",
    "print(\n",
    "    f\"If we use {more_deforestation_percentage*100}%, we can install {IDN_JT_forest_pv_capacity_2/1000:.2f} GW.\"\n",
    ")"
   ]
  },
  {
   "cell_type": "markdown",
   "metadata": {},
   "source": [
    "## Coming Soon ....\n",
    "\n",
    "Currently FEO is in it's beta phase and we are working on adding new features. In the future we will add more detailed land use information, such as the land area available for a given technology. This will be based on desk research that informs \"sensible defaults\" for land use policy in different regions and also incorporates renewable resource data (e.g. how sunny/windy a given node is). Providing this information will allow users to quickly estimate the renewable potential of a given node, without having to do the calculations themselves."
   ]
  }
 ],
 "metadata": {
  "kernelspec": {
   "display_name": "python3",
   "language": "python",
   "name": "python3"
  },
  "language_info": {
   "codemirror_mode": {
    "name": "ipython",
    "version": 3
   },
   "file_extension": ".py",
   "mimetype": "text/x-python",
   "name": "python",
   "nbconvert_exporter": "python",
   "pygments_lexer": "ipython3",
   "version": "3.11.5"
  }
 },
 "nbformat": 4,
 "nbformat_minor": 5
}
