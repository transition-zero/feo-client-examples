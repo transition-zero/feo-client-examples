{
    "cells": [
        {
            "cell_type": "markdown",
            "id": "0d7e3386-47a0-4010-861d-8af73abb94c2",
            "metadata": {},
            "source": [
                "_To use this notebook you must have a (free) FEO account, available [here](https://feo.transitionzero.org/). You may then install the feo-client library, if necessary, and then use the package to log in. You can also run notebook in a Colab notebook via the badge below._"
            ]
        },
        {
            "cell_type": "markdown",
            "id": "a693f8d0-3be8-4738-936c-bd03b725ef83",
            "metadata": {},
            "source": [
                "<a target=\"_blank\" href=\"https://colab.research.google.com/github/transition-zero/feo-client-examples/blob/main/feo-client-examples/1_assets.ipynb\">\n",
                "  <img src=\"https://colab.research.google.com/assets/colab-badge.svg\" alt=\"Open In Colab\"/>\n",
                "</a>"
            ]
        },
        {
            "cell_type": "code",
            "execution_count": 1,
            "id": "00994af4-8000-452a-957e-a1ef5a173db5",
            "metadata": {},
            "outputs": [
                {
                    "name": "stdout",
                    "output_type": "stream",
                    "text": [
                        "env: AUTH0_DOMAIN=dev-feo-tz.eu.auth0.com\n",
                        "env: FEO_API_URL=https://staging.api.feo.transitionzero.org\n",
                        "env: AUTH0_AUDIENCE=https://staging.api.feo.transitionzero.org\n",
                        "env: AUTH0_CLIENT_ID=bjzlyhLEClss31537pW3lu3Fkg97TzZ8\n",
                        "env: FEO_API_VERSION=v1\n"
                    ]
                }
            ],
            "source": [
                "# !pip install --extra-index-url https://test.pypi.org/simple/ feo-client==0.0.1a9\n",
                "\n",
                "%env AUTH0_DOMAIN=dev-feo-tz.eu.auth0.com\n",
                "%env FEO_API_URL=https://staging.api.feo.transitionzero.org\n",
                "%env AUTH0_AUDIENCE=https://staging.api.feo.transitionzero.org\n",
                "%env AUTH0_CLIENT_ID=bjzlyhLEClss31537pW3lu3Fkg97TzZ8 \n",
                "%env FEO_API_VERSION=v1\n",
                "\n"
            ]
        },
        {
            "cell_type": "code",
            "execution_count": 2,
            "id": "751b4391-c15b-4cd3-bb27-730a13393b62",
            "metadata": {
                "tags": [
                    "skip-execution"
                ]
            },
            "outputs": [
                {
                    "name": "stdout",
                    "output_type": "stream",
                    "text": [
                        "1. In a browser navigate to:  https://dev-feo-tz.eu.auth0.com/activate?user_code=FMGZ-QBJX\n",
                        "2. Enter the following code:  FMGZ-QBJX\n",
                        "Checking for authentication.Authenticated!\n",
                        "- Id Token: eyJhbGciOi...\n"
                    ]
                }
            ],
            "source": [
                "from feo.client.auth import login\n",
                "\n",
                "login()"
            ]
        },
        {
            "cell_type": "markdown",
            "id": "6b6d9851-3eff-4356-b47e-b97222f2c1be",
            "metadata": {},
            "source": [
                "# Land Cover Data\n",
                "_Object-oriented interface for Land Cover Data via the Python client_"
            ]
        },
        {
            "cell_type": "markdown",
            "metadata": {},
            "source": [
                "## Land Availability for Renewable Energy"
            ]
        },
        {
            "cell_type": "markdown",
            "metadata": {},
            "source": [
                "The amount of land available to build renewables is a key constraint on the energy transition and hence a key input to energy system models. Understanding where and how much of a given technology can be built, constrains how renewable capacity can be deployed and has downstream effects on the cost and emissions of the energy system. If we want to understand the energy transition, getting land availability right matters!\n",
                "\n",
                "To highlight this, let's do a back of the envelope calculation to see how land availability impacts how much solar PV we can be deployed in the Indonesian province Jawa Tengah. We'll consider two scenarios. In the first scenario, 1% of land in Jawa Tengah is available for solar PV. In the second, only 0.05% is available."
            ]
        },
        {
            "cell_type": "code",
            "execution_count": 3,
            "metadata": {},
            "outputs": [
                {
                    "name": "stdout",
                    "output_type": "stream",
                    "text": [
                        "Jawa Tengah solar PV capacity scenario 1: 48.35 GW\n",
                        "Jawa Tengah solar PV capacity scenario 2: 24.17 GW\n",
                        "Capacity difference: 24.17 GW\n"
                    ]
                }
            ],
            "source": [
                "# Assumptions\n",
                "IDN_JT_land_area = 34290 # km2\n",
                "scenario_1_percent = 0.01\n",
                "scenario_2_percent = 0.005\n",
                "solar_pv_density = 141 # MW/km2\n",
                "\n",
                "# Compute UK solar PV capacity in MW\n",
                "uk_solar_pv_capacity_scenario_1 = (IDN_JT_land_area * solar_pv_density * scenario_1_percent) \n",
                "uk_solar_pv_capacity_scenario_2 = (IDN_JT_land_area * solar_pv_density * scenario_2_percent) \n",
                "capacity_difference = uk_solar_pv_capacity_scenario_1 - uk_solar_pv_capacity_scenario_2\n",
                "\n",
                "# Print results\n",
                "print(f'Jawa Tengah solar PV capacity scenario 1: {uk_solar_pv_capacity_scenario_1/ 1000:.2f} GW')\n",
                "print(f'Jawa Tengah solar PV capacity scenario 2: {uk_solar_pv_capacity_scenario_2/ 1000:.2f} GW')\n",
                "print(f'Capacity difference: {capacity_difference/1000:.2f} GW')"
            ]
        },
        {
            "cell_type": "markdown",
            "metadata": {},
            "source": [
                "We see a difference of 24.17 GW of solar PV capacity between the two scenarios! \n",
                "\n",
                "To put this in context, IRENA estimates that the UK currently has 14.4 GW of solar PV capacity. So, the difference between these two scenarios is almost double the current solar PV capacity of the UK. This is a huge difference and highlights the importance of getting land availability right."
            ]
        },
        {
            "cell_type": "markdown",
            "metadata": {},
            "source": [
                "## Land Cover Data in FEO\n",
                "\n",
                "A key input to land availability calculations is land cover data. Land cover data tells us what type of land is present in a given location. \n",
                "\n",
                "In FEO, we have aggregated land cover data into $5$ land type categories:\n",
                "\n",
                "- `urban`: Urban areas\n",
                "- `cropland`: Agricultural land\n",
                "- `forest`: Forested land\n",
                "- `bare`: Bare land\n",
                "- `shrub`: Shrub land + Herbaceous land\n",
                "\n",
                "These land categories are derived from Coperniucs Global Land Cover classes\n",
                "\n",
                "The area of each land type category can be accessed with the `RecordCollection` client at the node level."
            ]
        },
        {
            "cell_type": "code",
            "execution_count": 4,
            "metadata": {},
            "outputs": [
                {
                    "data": {
                        "text/html": [
                            "<div>\n",
                            "<style scoped>\n",
                            "    .dataframe tbody tr th:only-of-type {\n",
                            "        vertical-align: middle;\n",
                            "    }\n",
                            "\n",
                            "    .dataframe tbody tr th {\n",
                            "        vertical-align: top;\n",
                            "    }\n",
                            "\n",
                            "    .dataframe thead th {\n",
                            "        text-align: right;\n",
                            "    }\n",
                            "</style>\n",
                            "<table border=\"1\" class=\"dataframe\">\n",
                            "  <thead>\n",
                            "    <tr style=\"text-align: right;\">\n",
                            "      <th></th>\n",
                            "      <th>node_id</th>\n",
                            "      <th>public</th>\n",
                            "      <th>source_id</th>\n",
                            "      <th>source_node_id</th>\n",
                            "      <th>target_node_id</th>\n",
                            "      <th>timestamp</th>\n",
                            "      <th>valid_timestamp_start</th>\n",
                            "      <th>valid_timestamp_end</th>\n",
                            "      <th>datum_type</th>\n",
                            "      <th>datum_detail</th>\n",
                            "      <th>value</th>\n",
                            "      <th>unit</th>\n",
                            "      <th>properties</th>\n",
                            "      <th>id</th>\n",
                            "    </tr>\n",
                            "  </thead>\n",
                            "  <tbody>\n",
                            "    <tr>\n",
                            "      <th>0</th>\n",
                            "      <td>IDN-JT</td>\n",
                            "      <td>True</td>\n",
                            "      <td>68</td>\n",
                            "      <td>None</td>\n",
                            "      <td>None</td>\n",
                            "      <td>2023-11-28 16:02:49.271381</td>\n",
                            "      <td>1850-01-01</td>\n",
                            "      <td>2250-01-01</td>\n",
                            "      <td>land_cover</td>\n",
                            "      <td>forest_landuse</td>\n",
                            "      <td>15612.464685</td>\n",
                            "      <td>km2</td>\n",
                            "      <td>{}</td>\n",
                            "      <td>656207</td>\n",
                            "    </tr>\n",
                            "  </tbody>\n",
                            "</table>\n",
                            "</div>"
                        ],
                        "text/plain": [
                            "  node_id  public  source_id source_node_id target_node_id  \\\n",
                            "0  IDN-JT    True         68           None           None   \n",
                            "\n",
                            "                   timestamp valid_timestamp_start valid_timestamp_end  \\\n",
                            "0 2023-11-28 16:02:49.271381            1850-01-01          2250-01-01   \n",
                            "\n",
                            "   datum_type    datum_detail         value unit properties      id  \n",
                            "0  land_cover  forest_landuse  15612.464685  km2         {}  656207  "
                        ]
                    },
                    "execution_count": 4,
                    "metadata": {},
                    "output_type": "execute_result"
                }
            ],
            "source": [
                "from feo.client import RecordCollection\n",
                "\n",
                "forest_area = RecordCollection.search(node_id = 'IDN-JT', datum_detail='forest_landuse') \n",
                "forest_area"
            ]
        },
        {
            "cell_type": "markdown",
            "metadata": {},
            "source": [
                "The client returns a pandas dataframe and the area can be found in the `value` column. Looking at the `unit` column we see it is given in $km^2$.\n",
                "\n",
                "Let's compare how much crop land the is in Jawa Tengah compared to forest.."
            ]
        },
        {
            "cell_type": "code",
            "execution_count": 30,
            "metadata": {},
            "outputs": [
                {
                    "name": "stdout",
                    "output_type": "stream",
                    "text": [
                        "Jawa Tengah forest area: 15612.46 km2\n",
                        "Jawa Tengah cropland area: 13207.00 km2\n"
                    ]
                }
            ],
            "source": [
                "IDN_JT_forest = forest_area['value'].item()\n",
                "IDN_JT_crop =  13207 #RecordCollection.search(node_id = 'IDN-JT', datum_detail='cropland_landuse')['value'].item()\n",
                "\n",
                "print(f'Jawa Tengah forest area: {IDN_JT_forest:.2f} km2')\n",
                "print(f'Jawa Tengah cropland area: {IDN_JT_crop:.2f} km2')"
            ]
        },
        {
            "cell_type": "markdown",
            "metadata": {},
            "source": [
                ".. and how much forest there in Jawa Tengah, compared to a neighboring province, Jawa Barat."
            ]
        },
        {
            "cell_type": "code",
            "execution_count": 31,
            "metadata": {},
            "outputs": [
                {
                    "name": "stdout",
                    "output_type": "stream",
                    "text": [
                        "Jawa Tengah forest area: 15612.46 km2\n",
                        "Jawa Barat forest area: 21384.93 km2\n"
                    ]
                }
            ],
            "source": [
                "IDN_JB_forest = RecordCollection.search(node_id = 'IDN-JB', datum_detail='forest_landuse')['value'].item()\n",
                "\n",
                "print(f'Jawa Tengah forest area: {IDN_JT_forest:.2f} km2')\n",
                "print(f'Jawa Barat forest area: {IDN_JB_forest:.2f} km2')"
            ]
        },
        {
            "cell_type": "markdown",
            "metadata": {},
            "source": [
                "## Renewable Potentials\n"
            ]
        },
        {
            "cell_type": "markdown",
            "metadata": {},
            "source": [
                "This land cover data can be used for early-stage mapping of land availability for renewables and to gain a rough estimate of renewable energy potentials at a given node. A key assumption for this estimation is the percentage of a given land type that we want to make available for a given technology. This should be informed by the land use priorities of the region, renewable resource information (how windy/sunny is the region?) and the land use requirements of the technology.\n",
                "\n",
                "For example, let's estimate how changing our forest land use policy impacts how much solar PV capacity could be deployed in currently forested areas of Jawa Tengah. "
            ]
        },
        {
            "cell_type": "code",
            "execution_count": 36,
            "metadata": {},
            "outputs": [
                {
                    "name": "stdout",
                    "output_type": "stream",
                    "text": [
                        "If 1.0% of forest is used for solar PV in Jawa Tengah, then we can install 22.01 GW of solar PV in currently forested areas of Jawa Tengah.\n",
                        "If we use 5.0%, we can install 110.07 GW.\n"
                    ]
                }
            ],
            "source": [
                "# Assumptions\n",
                "\n",
                "solar_pv_density = 141 # MW/km2\n",
                "less_deforestation_percentage = 0.01 # 1% of forest landuse is used for solar PV\n",
                "more_deforestation_percentage = 0.05 # 5% of forest landuse is used for solar PV\n",
                "\n",
                "IDN_JT_forest_pv_capacity_1 = (forest_area['value'].item() * solar_pv_density * less_deforestation_percentage)\n",
                "IDN_JT_forest_pv_capacity_2 = (forest_area['value'].item() * solar_pv_density * more_deforestation_percentage)\n",
                "print(f'If {less_deforestation_percentage*100}% of forest is used for solar PV in Jawa Tengah, then we can install {IDN_JT_forest_pv_capacity_1/1000:.2f} GW of solar PV in currently forested areas of Jawa Tengah.')\n",
                "print(f'If we use {more_deforestation_percentage*100}%, we can install {IDN_JT_forest_pv_capacity_2/1000:.2f} GW.')\n"
            ]
        },
        {
            "cell_type": "markdown",
            "metadata": {},
            "source": [
                "## Coming Soon ....\n",
                "\n",
                "Currently FEO is in it's beta phase and we are working on adding new features. In the future we will add the following features:"
            ]
        },
        {
            "cell_type": "markdown",
            "metadata": {},
            "source": [
                "## References\n",
                "\n",
                "- [Cox et al., 2018] Cox, Sarah L., Anthony J. Lopez, Andrea C. Watson, Nicholas W. Grue, and Jennifer E. Leisch. Renewable energy data, analysis, and decisions: a guide for practitioners. No. NREL/TP-6A20-68913. National Renewable Energy Lab.(NREL), Golden, CO (United States), 2018."
            ]
        }
    ],
    "metadata": {
        "kernelspec": {
            "display_name": "python3",
            "language": "python",
            "name": "python3"
        },
        "language_info": {
            "codemirror_mode": {
                "name": "ipython",
                "version": 3
            },
            "file_extension": ".py",
            "mimetype": "text/x-python",
            "name": "python",
            "nbconvert_exporter": "python",
            "pygments_lexer": "ipython3",
            "version": "3.11.5"
        }
    },
    "nbformat": 4,
    "nbformat_minor": 5
}
