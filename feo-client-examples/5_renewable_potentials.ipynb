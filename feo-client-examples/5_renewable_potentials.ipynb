{
 "cells": [
  {
   "cell_type": "markdown",
   "id": "0d7e3386-47a0-4010-861d-8af73abb94c2",
   "metadata": {},
   "source": [
    "_To use this notebook you must have a (free) FEO account, available [here](https://feo.transitionzero.org/). You may then install the feo-client library, if necessary, and then use the package to log in. You can also run notebook in a Colab notebook via the badge below._"
   ]
  },
  {
   "cell_type": "markdown",
   "id": "a693f8d0-3be8-4738-936c-bd03b725ef83",
   "metadata": {},
   "source": [
    "<a target=\"_blank\" href=\"https://colab.research.google.com/github/transition-zero/feo-client-examples/blob/main/feo-client-examples/1_assets.ipynb\">\n",
    "  <img src=\"https://colab.research.google.com/assets/colab-badge.svg\" alt=\"Open In Colab\"/>\n",
    "</a>"
   ]
  },
  {
   "cell_type": "code",
   "execution_count": null,
   "id": "00994af4-8000-452a-957e-a1ef5a173db5",
   "metadata": {},
   "outputs": [],
   "source": [
    "!pip install --extra-index-url https://test.pypi.org/simple/ feo-client==0.0.1a7"
   ]
  },
  {
   "cell_type": "code",
   "execution_count": null,
   "id": "751b4391-c15b-4cd3-bb27-730a13393b62",
   "metadata": {},
   "outputs": [],
   "source": [
    "from feo.client.auth import login\n",
    "\n",
    "login()"
   ]
  },
  {
   "cell_type": "markdown",
   "id": "6b6d9851-3eff-4356-b47e-b97222f2c1be",
   "metadata": {},
   "source": [
    "# Renewable Potentials\n",
    "_Object-oriented interface for Renewable Potentials via the Python client_"
   ]
  },
  {
   "cell_type": "markdown",
   "id": "b547e5aa-27dd-4300-a572-6fa2d789cd48",
   "metadata": {},
   "source": [
    "In the FEO platform, `Potentials` are a subset of Nodes. Poten are Nodes which correspond to physical plant and equipment like power stations and steelworks. \n",
    "\n",
    "To begin, import the Potentials client."
   ]
  },
  {
   "cell_type": "code",
   "execution_count": null,
   "id": "5175394e-0839-45a4-8c91-6488b4f1d600",
   "metadata": {},
   "outputs": [],
   "source": [
    "%env AUTH0_DOMAIN=dev-feo-tz.eu.auth0.com\n",
    "%env FEO_API_URL=http://127.0.0.1:8080\n",
    "%env AUTH0_AUDIENCE=https://staging.api.feo.transitionzero.org\n",
    "%env AUTH0_CLIENT_ID=bjzlyhLEClss31537pW3lu3Fkg97TzZ8"
   ]
  },
  {
   "cell_type": "code",
   "execution_count": null,
   "id": "e7eae12b-d1e9-4220-b2a1-f4910720e8b5",
   "metadata": {},
   "outputs": [],
   "source": [
    "from feo.client import Potential"
   ]
  },
  {
   "cell_type": "markdown",
   "id": "a19d0131-37ae-4383-82e0-8de17a09e456",
   "metadata": {},
   "source": [
    "Like nodes, potentials can be searched for: "
   ]
  },
  {
   "cell_type": "code",
   "execution_count": null,
   "id": "185cb3cd-96d2-4a58-bd80-8865d551fc71",
   "metadata": {},
   "outputs": [],
   "source": [
    "search_results = Potential.search(\"Rooppur nuclear power plant\", sector=\"power\")\n",
    "search_results\n",
    "for potential in search_results:\n",
    "    print(potential.id, potential.name_primary_en)"
   ]
  },
  {
   "cell_type": "markdown",
   "id": "c6afc777-6da4-485b-a76b-d3ce82767464",
   "metadata": {},
   "source": [
    "... or directly instantiated:"
   ]
  },
  {
   "cell_type": "code",
   "execution_count": null,
   "id": "e2cbf050-ab7a-48de-b446-cb809a818c50",
   "metadata": {
    "scrolled": true
   },
   "outputs": [],
   "source": [
    "potential = Potential(\"PWRURNBGDA0U0\")\n",
    "asset.id, asset.name_primary_en"
   ]
  }
 ],
 "metadata": {
  "kernelspec": {
   "display_name": "Python (feo-client)",
   "language": "python",
   "name": "feo-client"
  },
  "language_info": {
   "codemirror_mode": {
    "name": "ipython",
    "version": 3
   },
   "file_extension": ".py",
   "mimetype": "text/x-python",
   "name": "python",
   "nbconvert_exporter": "python",
   "pygments_lexer": "ipython3",
   "version": "3.11.5"
  }
 },
 "nbformat": 4,
 "nbformat_minor": 5
}
